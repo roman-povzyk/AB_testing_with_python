{
 "cells": [
  {
   "cell_type": "markdown",
   "id": "93ac30be",
   "metadata": {},
   "source": [
    "# Обчислення A/B-тесту з трьома варіантами"
   ]
  },
  {
   "cell_type": "markdown",
   "id": "822e739c",
   "metadata": {},
   "source": [
    "## 1. Встановлюємо та імпортуємо необхідні бібліотеки"
   ]
  },
  {
   "cell_type": "code",
   "execution_count": 1,
   "id": "6a04ca00",
   "metadata": {},
   "outputs": [
    {
     "name": "stdout",
     "output_type": "stream",
     "text": [
      "Requirement already satisfied: tabulate in c:\\users\\roman\\anaconda3\\lib\\site-packages (0.8.9)\n",
      "Note: you may need to restart the kernel to use updated packages.\n"
     ]
    }
   ],
   "source": [
    "pip install tabulate"
   ]
  },
  {
   "cell_type": "code",
   "execution_count": 2,
   "id": "13ab42c8",
   "metadata": {},
   "outputs": [
    {
     "name": "stdout",
     "output_type": "stream",
     "text": [
      "Requirement already satisfied: scipy in c:\\users\\roman\\anaconda3\\lib\\site-packages (1.6.2)\n",
      "Requirement already satisfied: numpy<1.23.0,>=1.16.5 in c:\\users\\roman\\anaconda3\\lib\\site-packages (from scipy) (1.20.1)\n",
      "Note: you may need to restart the kernel to use updated packages.\n"
     ]
    }
   ],
   "source": [
    "pip install scipy"
   ]
  },
  {
   "cell_type": "code",
   "execution_count": 41,
   "id": "e88b3096",
   "metadata": {},
   "outputs": [],
   "source": [
    "import matplotlib.pyplot as plt\n",
    "import numpy as np\n",
    "from scipy.stats import binom, norm\n",
    "from tabulate import tabulate"
   ]
  },
  {
   "cell_type": "markdown",
   "id": "e005255f",
   "metadata": {},
   "source": [
    "## 2. Обчислення стосовно іконки."
   ]
  },
  {
   "cell_type": "markdown",
   "id": "1b988ab7",
   "metadata": {},
   "source": [
    "### 2.1. Вводимо необхідні дані."
   ]
  },
  {
   "cell_type": "code",
   "execution_count": 51,
   "id": "4d658375",
   "metadata": {},
   "outputs": [],
   "source": [
    "# b — Baseline, v_A — варіант №1, v_B — варіант №2, v_C — варіант №3\n",
    "icon_vis_b = 634924\n",
    "icon_vis_v_A = 656814\n",
    "icon_vis_v_B = 1031516\n",
    "icon_vis_v_C = 1031516\n",
    "\n",
    "icon_touch_b = 47920\n",
    "icon_touch_v_A = 49956\n",
    "icon_touch_v_B = 61702\n",
    "icon_touch_v_C = 61702\n",
    "\n",
    "open_store_b  = 24458\n",
    "open_store_v_A = 25084\n",
    "open_store_v_B = 29513\n",
    "open_store_v_C = 29513"
   ]
  },
  {
   "cell_type": "markdown",
   "id": "7979cbd6",
   "metadata": {},
   "source": [
    "### 2.2. Обчислюємо z-score для p-value (двостороння гіпотеза)."
   ]
  },
  {
   "cell_type": "code",
   "execution_count": 52,
   "id": "dae230fc",
   "metadata": {},
   "outputs": [],
   "source": [
    "# it_iv_z_score для Variant A\n",
    "\n",
    "it_iv_rate_b = icon_touch_b / icon_vis_b\n",
    "it_iv_rate_v_A = icon_touch_v_A / icon_vis_v_A\n",
    "\n",
    "it_iv_std_b = np.sqrt(it_iv_rate_b * (1 - it_iv_rate_b) / icon_vis_b)\n",
    "it_iv_std_v_A = np.sqrt(it_iv_rate_v_A * (1 - it_iv_rate_v_A) / icon_vis_v_A)\n",
    "\n",
    "it_iv_z_score_v_A = abs((it_iv_rate_v_A - it_iv_rate_b) / np.sqrt(it_iv_std_b**2 + it_iv_std_v_A**2))\n",
    "\n",
    "# os_it_z_score для Variant A\n",
    "\n",
    "os_it_rate_b = open_store_b / icon_touch_b\n",
    "os_it_rate_v_A = open_store_v_A / icon_touch_v_A\n",
    "\n",
    "os_it_std_b = np.sqrt(os_it_rate_b * (1 - os_it_rate_b) / icon_touch_b)\n",
    "os_it_std_v_A = np.sqrt(os_it_rate_v_A * (1 - os_it_rate_v_A) / icon_touch_v_A)\n",
    "\n",
    "os_it_z_score_v_A = abs((os_it_rate_v_A - os_it_rate_b) / np.sqrt(os_it_std_b**2 + os_it_std_v_A**2))\n",
    "\n",
    "# os_iv_z_score для Variant A\n",
    "\n",
    "os_iv_rate_b = open_store_b / icon_vis_b\n",
    "os_iv_rate_v_A = open_store_v_A / icon_vis_v_A\n",
    "\n",
    "os_iv_std_b = np.sqrt(os_iv_rate_b * (1 - os_iv_rate_b) / icon_vis_b)\n",
    "os_iv_std_v_A = np.sqrt(os_iv_rate_v_A * (1 - os_iv_rate_v_A) / icon_vis_v_A)\n",
    "\n",
    "os_iv_z_score_v_A = abs((os_iv_rate_v_A - os_iv_rate_b) / np.sqrt(os_iv_std_b**2 + os_iv_std_v_A**2))"
   ]
  },
  {
   "cell_type": "code",
   "execution_count": 44,
   "id": "832c89f5",
   "metadata": {},
   "outputs": [],
   "source": [
    "# it_iv_z_score для Variant B\n",
    "\n",
    "it_iv_rate_v_B = icon_touch_v_B / icon_vis_v_B\n",
    "it_iv_std_v_B = np.sqrt(it_iv_rate_v_B * (1 - it_iv_rate_v_B) / icon_vis_v_B)\n",
    "it_iv_z_score_v_B = abs((it_iv_rate_v_B - it_iv_rate_b) / np.sqrt(it_iv_std_b**2 + it_iv_std_v_B**2))\n",
    "\n",
    "# os_it_z_score для Variant B\n",
    "\n",
    "os_it_rate_v_B = open_store_v_B / icon_touch_v_B\n",
    "os_it_std_v_B = np.sqrt(os_it_rate_v_B * (1 - os_it_rate_v_B) / icon_touch_v_B)\n",
    "os_it_z_score_v_B = abs((os_it_rate_v_B - os_it_rate_b) / np.sqrt(os_it_std_b**2 + os_it_std_v_B**2))\n",
    "\n",
    "# os_iv_z_score для Variant B\n",
    "\n",
    "os_iv_rate_v_B = open_store_v_B / icon_vis_v_B\n",
    "os_iv_std_v_B = np.sqrt(os_iv_rate_v_B * (1 - os_iv_rate_v_B) / icon_vis_v_B)\n",
    "os_iv_z_score_v_B = abs((os_iv_rate_v_B - os_iv_rate_b) / np.sqrt(os_iv_std_b**2 + os_iv_std_v_B**2))"
   ]
  },
  {
   "cell_type": "code",
   "execution_count": 53,
   "id": "d66b88c7",
   "metadata": {},
   "outputs": [],
   "source": [
    "# it_iv_z_score для Variant C\n",
    "\n",
    "it_iv_rate_v_C = icon_touch_v_C / icon_vis_v_C\n",
    "it_iv_std_v_C = np.sqrt(it_iv_rate_v_C * (1 - it_iv_rate_v_C) / icon_vis_v_C)\n",
    "it_iv_z_score_v_C = abs((it_iv_rate_v_C - it_iv_rate_b) / np.sqrt(it_iv_std_b**2 + it_iv_std_v_C**2))\n",
    "\n",
    "# os_it_z_score для Variant C\n",
    "\n",
    "os_it_rate_v_C = open_store_v_C / icon_touch_v_C\n",
    "os_it_std_v_C = np.sqrt(os_it_rate_v_C * (1 - os_it_rate_v_C) / icon_touch_v_C)\n",
    "os_it_z_score_v_C = abs((os_it_rate_v_C - os_it_rate_b) / np.sqrt(os_it_std_b**2 + os_it_std_v_C**2))\n",
    "\n",
    "# os_iv_z_score для Variant C\n",
    "\n",
    "os_iv_rate_v_C = open_store_v_C / icon_vis_v_C\n",
    "os_iv_std_v_C = np.sqrt(os_iv_rate_v_C * (1 - os_iv_rate_v_C) / icon_vis_v_C)\n",
    "os_iv_z_score_v_C = abs((os_iv_rate_v_C - os_iv_rate_b) / np.sqrt(os_iv_std_b**2 + os_iv_std_v_C**2))"
   ]
  },
  {
   "cell_type": "markdown",
   "id": "d474c455",
   "metadata": {},
   "source": [
    "### 2.3. Обчислюємо решту потрібних показників для таблиці."
   ]
  },
  {
   "cell_type": "code",
   "execution_count": 54,
   "id": "1c949880",
   "metadata": {},
   "outputs": [],
   "source": [
    "it_iv_b = icon_touch_b / icon_vis_b\n",
    "it_iv_v_A = icon_touch_v_A / icon_vis_v_A\n",
    "\n",
    "os_it_b = open_store_b / icon_touch_b\n",
    "os_it_v_A = open_store_v_A / icon_touch_v_A\n",
    "\n",
    "os_iv_b = open_store_b / icon_vis_b\n",
    "os_iv_v_A = open_store_v_A / icon_vis_v_A\n",
    "\n",
    "dif_it_iv_v_A = (it_iv_v_A - it_iv_b) / it_iv_b\n",
    "dif_os_it_v_A = (os_it_v_A - os_it_b) / os_it_b\n",
    "dif_os_iv_v_A = (os_iv_v_A - os_iv_b) / os_iv_b"
   ]
  },
  {
   "cell_type": "code",
   "execution_count": 55,
   "id": "0926c908",
   "metadata": {},
   "outputs": [],
   "source": [
    "it_iv_v_B = icon_touch_v_B / icon_vis_v_B\n",
    "os_it_v_B = open_store_v_B / icon_touch_v_B\n",
    "os_iv_v_B = open_store_v_B / icon_vis_v_B\n",
    "\n",
    "dif_it_iv_v_B = (it_iv_v_B - it_iv_b) / it_iv_b\n",
    "dif_os_it_v_B = (os_it_v_B - os_it_b) / os_it_b\n",
    "dif_os_iv_v_B = (os_iv_v_B - os_iv_b) / os_iv_b"
   ]
  },
  {
   "cell_type": "code",
   "execution_count": 56,
   "id": "272b24c5",
   "metadata": {},
   "outputs": [],
   "source": [
    "it_iv_v_C = icon_touch_v_C / icon_vis_v_C\n",
    "os_it_v_C = open_store_v_C / icon_touch_v_C\n",
    "os_iv_v_C = open_store_v_C / icon_vis_v_C\n",
    "\n",
    "dif_it_iv_v_C = (it_iv_v_C - it_iv_b) / it_iv_b\n",
    "dif_os_it_v_C = (os_it_v_C - os_it_b) / os_it_b\n",
    "dif_os_iv_v_C = (os_iv_v_C - os_iv_b) / os_iv_b"
   ]
  },
  {
   "cell_type": "markdown",
   "id": "7590ba55",
   "metadata": {},
   "source": [
    "### 2.4. Виводимо таблиці з обчисленими даними."
   ]
  },
  {
   "cell_type": "code",
   "execution_count": 57,
   "id": "8406e588",
   "metadata": {},
   "outputs": [
    {
     "name": "stdout",
     "output_type": "stream",
     "text": [
      "Variant      icon_vis    icon_touch    open_Store    it/iv, %    os/it, %    os/iv, %\n",
      "---------  ----------  ------------  ------------  ----------  ----------  ----------\n",
      "Baseline       634924         47920         24458        7.55       51.04        3.85\n",
      "Variant A      656814         49956         25084        7.61       50.21        3.82\n",
      "Variant B     1031516         61702         29513        5.98       47.83        2.86\n",
      "Variant C     1031516         61702         29513        5.98       47.83        2.86\n"
     ]
    }
   ],
   "source": [
    "# перша частина таблиці\n",
    "table_icon_1_1 = [\n",
    "    \n",
    "        ['Variant', 'icon_vis', 'icon_touch', 'open_Store', 'it/iv, %', 'os/it, %', 'os/iv, %'], \n",
    "         \n",
    "        ['Baseline', icon_vis_b, icon_touch_b, open_store_b, round((it_iv_b * 100), 2), \n",
    "          round((os_it_b * 100), 2), round((os_iv_b * 100), 2)],\n",
    "        \n",
    "        ['Variant A', icon_vis_v_A, icon_touch_v_A, open_store_v_A, round((it_iv_v_A * 100), 2), \n",
    "         round((os_it_v_A * 100), 2), round((os_iv_v_A * 100), 2)],\n",
    "\n",
    "        ['Variant B', icon_vis_v_B, icon_touch_v_B, open_store_v_B, round((it_iv_v_B * 100), 2), \n",
    "         round((os_it_v_B * 100), 2), round((os_iv_v_B * 100), 2)],\n",
    "                  \n",
    "        ['Variant C', icon_vis_v_C, icon_touch_v_C, open_store_v_C, round((it_iv_v_C * 100), 2), \n",
    "         round((os_it_v_C * 100), 2), round((os_iv_v_C * 100), 2)]]\n",
    "\n",
    "# друга частина таблиці\n",
    "table_icon_1_2 = [\n",
    "    \n",
    "        ['Variant', 'dif it/iv, %', 'dif os/it, %', 'dif os/iv, %', 'sign it/iv', 'sign os/it', 'sign os/iv'], \n",
    "         \n",
    "        ['Baseline'],\n",
    "        \n",
    "        ['Variant A', round((dif_it_iv_v_A * 100), 2), round((dif_os_it_v_A * 100), 2), round((dif_os_iv_v_A * 100), 2), \n",
    "         (1 - 2 * norm().sf(it_iv_z_score_v_A)) * 100, (1 - 2 * norm().sf(os_it_z_score_v_A)) * 100, (1 - 2 * norm().sf(os_iv_z_score_v_A)) * 100],\n",
    "\n",
    "        ['Variant B', round((dif_it_iv_v_B * 100), 2), round((dif_os_it_v_B * 100), 2), round((dif_os_iv_v_B * 100), 2), \n",
    "         (1 - 2 * norm().sf(it_iv_z_score_v_B)) * 100, (1 - 2 * norm().sf(os_it_z_score_v_B)) * 100, (1 - 2 * norm().sf(os_iv_z_score_v_B)) * 100],\n",
    "    \n",
    "        ['Variant C', round((dif_it_iv_v_C * 100), 2), round((dif_os_it_v_C * 100), 2), round((dif_os_iv_v_C * 100), 2), \n",
    "         (1 - 2 * norm().sf(it_iv_z_score_v_C)) * 100, (1 - 2 * norm().sf(os_it_z_score_v_C)) * 100, (1 - 2 * norm().sf(os_iv_z_score_v_C)) * 100],\n",
    "    \n",
    "]\n",
    "\n",
    "# виведення першої частини таблиці\n",
    "print(tabulate(table_icon_1_1, headers='firstrow'))"
   ]
  },
  {
   "cell_type": "code",
   "execution_count": 58,
   "id": "d08ccf82",
   "metadata": {},
   "outputs": [
    {
     "name": "stdout",
     "output_type": "stream",
     "text": [
      "Variant      dif it/iv, %    dif os/it, %    dif os/iv, %    sign it/iv    sign os/it    sign os/iv\n",
      "---------  --------------  --------------  --------------  ------------  ------------  ------------\n",
      "Baseline\n",
      "Variant A            0.77           -1.62           -0.86       79.0514       99.0323       67.2139\n",
      "Variant B          -20.74           -6.28          -25.73      100           100           100\n",
      "Variant C          -20.74           -6.28          -25.73      100           100           100\n"
     ]
    }
   ],
   "source": [
    "# виведення другої частини таблиці\n",
    "print(tabulate(table_icon_1_2, headers='firstrow'))"
   ]
  },
  {
   "cell_type": "markdown",
   "id": "eb94d02d",
   "metadata": {},
   "source": [
    "### 2.5. Отримуємо дані про статистичну значимість (двостороння гіпотеза). "
   ]
  },
  {
   "cell_type": "code",
   "execution_count": 59,
   "id": "62bb0696",
   "metadata": {},
   "outputs": [
    {
     "name": "stdout",
     "output_type": "stream",
     "text": [
      "Variant A\n",
      "Є статистична значимість os/it.\n",
      "\n",
      "Variant B\n",
      "Є статистична значимість it/iv.\n",
      "Є статистична значимість os/it.\n",
      "Є статистична значимість os/iv.\n",
      "\n",
      "Variant C\n",
      "Є статистична значимість it/iv.\n",
      "Є статистична значимість os/it.\n",
      "Є статистична значимість os/iv.\n"
     ]
    }
   ],
   "source": [
    "print('Variant A')\n",
    "\n",
    "if norm().sf(it_iv_z_score_v_A) < 0.025 or norm().sf(it_iv_z_score_v_A) == 0.025:\n",
    "    print('Є статистична значимість it/iv.')    \n",
    "if norm().sf(os_it_z_score_v_A) < 0.025 or norm().sf(os_it_z_score_v_A) == 0.025:\n",
    "    print('Є статистична значимість os/it.')    \n",
    "if norm().sf(os_iv_z_score_v_A) < 0.025 or norm().sf(os_iv_z_score_v_A) == 0.025:\n",
    "    print('Є статистична значимість os/iv.')\n",
    "if norm().sf(it_iv_z_score_v_A) > 0.025 and norm().sf(os_it_z_score_v_A) > 0.025 and norm().sf(os_iv_z_score_v_A) > 0.025:\n",
    "    print('Статистичної значимості ніде немає.')\n",
    "    \n",
    "print()    \n",
    "print('Variant B')\n",
    "\n",
    "if norm().sf(it_iv_z_score_v_B) < 0.025 or norm().sf(it_iv_z_score_v_B) == 0.025:\n",
    "    print('Є статистична значимість it/iv.')    \n",
    "if norm().sf(os_it_z_score_v_B) < 0.025 or norm().sf(os_it_z_score_v_B) == 0.025:\n",
    "    print('Є статистична значимість os/it.')    \n",
    "if norm().sf(os_iv_z_score_v_B) < 0.025 or norm().sf(os_iv_z_score_v_B) == 0.025:\n",
    "    print('Є статистична значимість os/iv.')   \n",
    "if norm().sf(it_iv_z_score_v_B) > 0.025 and norm().sf(os_it_z_score_v_B) > 0.025 and norm().sf(os_iv_z_score_v_B) > 0.025:\n",
    "    print('Статистичної значимості ніде немає.')\n",
    "\n",
    "print()   \n",
    "print('Variant C')\n",
    "\n",
    "if norm().sf(it_iv_z_score_v_C) < 0.025 or norm().sf(it_iv_z_score_v_C) == 0.025:\n",
    "    print('Є статистична значимість it/iv.')    \n",
    "if norm().sf(os_it_z_score_v_C) < 0.025 or norm().sf(os_it_z_score_v_C) == 0.025:\n",
    "    print('Є статистична значимість os/it.')    \n",
    "if norm().sf(os_iv_z_score_v_C) < 0.025 or norm().sf(os_iv_z_score_v_C) == 0.025:\n",
    "    print('Є статистична значимість os/iv.')\n",
    "if norm().sf(it_iv_z_score_v_C) > 0.025 and norm().sf(os_it_z_score_v_C) > 0.025 and norm().sf(os_iv_z_score_v_C) > 0.025:\n",
    "    print('Статистичної значимості ніде немає.')"
   ]
  },
  {
   "cell_type": "markdown",
   "id": "6ef5f6cb",
   "metadata": {},
   "source": [
    "## 3. Обчислення стосовно банеру."
   ]
  },
  {
   "cell_type": "markdown",
   "id": "5fb24348",
   "metadata": {},
   "source": [
    "### 3.1. Вводимо необхідні дані."
   ]
  },
  {
   "cell_type": "code",
   "execution_count": 60,
   "id": "1a664109",
   "metadata": {},
   "outputs": [],
   "source": [
    "# b — Baseline, v_A — варіант №1, v_B — варіант №2, v_C — варіант №3\n",
    "banner_show_b = 47652\n",
    "banner_show_v_A = 49686\n",
    "banner_show_v_B = 61444\n",
    "banner_show_v_C = 61444\n",
    "\n",
    "banner_touch_b = 24466\n",
    "banner_touch_v_A = 25100\n",
    "banner_touch_v_B = 29527\n",
    "banner_touch_v_C = 29527\n",
    "\n",
    "open_store_b = 24458\n",
    "open_store_v_A = 25084\n",
    "open_store_v_B = 29513\n",
    "open_store_v_C = 29513"
   ]
  },
  {
   "cell_type": "markdown",
   "id": "4206fd70",
   "metadata": {},
   "source": [
    "### 3.2. Обчислюємо z-score для p-value (двостороння гіпотеза)."
   ]
  },
  {
   "cell_type": "code",
   "execution_count": 61,
   "id": "2aff1186",
   "metadata": {},
   "outputs": [],
   "source": [
    "# bt_bs_z_score для Variant A\n",
    "\n",
    "bt_bs_rate_b = banner_touch_b / banner_show_b\n",
    "bt_bs_rate_v_A = banner_touch_v_A / banner_show_v_A\n",
    "\n",
    "bt_bs_std_b = np.sqrt(bt_bs_rate_b * (1 - bt_bs_rate_b) / banner_show_b)\n",
    "bt_bs_std_v_A = np.sqrt(bt_bs_rate_v_A * (1 - bt_bs_rate_v_A) / banner_show_v_A)\n",
    "\n",
    "bt_bs_z_score_v_A = abs((bt_bs_rate_v_A - bt_bs_rate_b) / np.sqrt(bt_bs_std_b**2 + bt_bs_std_v_A**2))\n",
    "\n",
    "# os_it_z_score для Variant A\n",
    "\n",
    "os_bs_rate_b = open_store_b / banner_show_b\n",
    "os_bs_rate_v_A = open_store_v_A / banner_show_v_A\n",
    "\n",
    "os_bs_std_b = np.sqrt(os_bs_rate_b * (1 - os_bs_rate_b) / banner_show_b)\n",
    "os_bs_std_v_A = np.sqrt(os_bs_rate_v_A * (1 - os_bs_rate_v_A) / banner_show_v_A)\n",
    "\n",
    "os_bs_z_score_v_A = abs((os_bs_rate_v_A - os_bs_rate_b) / np.sqrt(os_bs_std_b**2 + os_bs_std_v_A**2))"
   ]
  },
  {
   "cell_type": "code",
   "execution_count": 62,
   "id": "3955e2ab",
   "metadata": {},
   "outputs": [],
   "source": [
    "# bt_bs_z_score для Variant B\n",
    "\n",
    "bt_bs_rate_v_B = banner_touch_v_B / banner_show_v_B\n",
    "bt_bs_std_v_B = np.sqrt(bt_bs_rate_v_B * (1 - bt_bs_rate_v_B) / banner_show_v_B)\n",
    "bt_bs_z_score_v_B = abs((bt_bs_rate_v_B - bt_bs_rate_b) / np.sqrt(bt_bs_std_b**2 + bt_bs_std_v_B**2))\n",
    "\n",
    "# os_it_z_score для для Variant B\n",
    "\n",
    "os_bs_rate_v_B = open_store_v_B / banner_show_v_B\n",
    "os_bs_std_v_B = np.sqrt(os_bs_rate_v_B * (1 - os_bs_rate_v_B) / banner_show_v_B)\n",
    "os_bs_z_score_v_B = abs((os_bs_rate_v_B - os_bs_rate_b) / np.sqrt(os_bs_std_b**2 + os_bs_std_v_B**2))"
   ]
  },
  {
   "cell_type": "code",
   "execution_count": 63,
   "id": "b4206710",
   "metadata": {},
   "outputs": [],
   "source": [
    "# bt_bs_z_score для Variant C\n",
    "\n",
    "bt_bs_rate_v_C = banner_touch_v_C / banner_show_v_C\n",
    "bt_bs_std_v_C = np.sqrt(bt_bs_rate_v_C * (1 - bt_bs_rate_v_B) / banner_show_v_B)\n",
    "bt_bs_z_score_v_C = abs((bt_bs_rate_v_C - bt_bs_rate_b) / np.sqrt(bt_bs_std_b**2 + bt_bs_std_v_C**2))\n",
    "\n",
    "# os_it_z_score для для Variant C\n",
    "\n",
    "os_bs_rate_v_C = open_store_v_C / banner_show_v_C\n",
    "os_bs_std_v_C = np.sqrt(os_bs_rate_v_C * (1 - os_bs_rate_v_C) / banner_show_v_C)\n",
    "os_bs_z_score_v_C = abs((os_bs_rate_v_C - os_bs_rate_b) / np.sqrt(os_bs_std_b**2 + os_bs_std_v_C**2))"
   ]
  },
  {
   "cell_type": "markdown",
   "id": "007e0feb",
   "metadata": {},
   "source": [
    "### 3.3. Обчислюємо решту потрібних показників для таблиці."
   ]
  },
  {
   "cell_type": "code",
   "execution_count": 64,
   "id": "d3892ccd",
   "metadata": {},
   "outputs": [],
   "source": [
    "bt_bs_b = banner_touch_b / banner_show_b\n",
    "bt_bs_v_A = banner_touch_v_A / banner_show_v_A\n",
    "\n",
    "os_bs_b = open_store_b / banner_show_b\n",
    "os_bs_v_A = open_store_v_A / banner_show_v_A\n",
    "\n",
    "dif_bt_bs_v_A = (bt_bs_v_A - bt_bs_b) / bt_bs_b\n",
    "dif_os_bs_v_A = (os_bs_v_A - os_bs_b) / os_bs_b"
   ]
  },
  {
   "cell_type": "code",
   "execution_count": 65,
   "id": "62278962",
   "metadata": {},
   "outputs": [],
   "source": [
    "bt_bs_v_B = banner_touch_v_B / banner_show_v_B\n",
    "os_bs_v_B = open_store_v_B / banner_show_v_B\n",
    "\n",
    "dif_bt_bs_v_B = (bt_bs_v_B - bt_bs_b) / bt_bs_b\n",
    "dif_os_bs_v_B = (os_bs_v_B - os_bs_b) / os_bs_b"
   ]
  },
  {
   "cell_type": "code",
   "execution_count": 66,
   "id": "b1d7d1b6",
   "metadata": {},
   "outputs": [],
   "source": [
    "bt_bs_v_C = banner_touch_v_C / banner_show_v_C\n",
    "os_bs_v_C = open_store_v_C / banner_show_v_C\n",
    "\n",
    "dif_bt_bs_v_C = (bt_bs_v_C - bt_bs_b) / bt_bs_b\n",
    "dif_os_bs_v_C = (os_bs_v_C - os_bs_b) / os_bs_b"
   ]
  },
  {
   "cell_type": "markdown",
   "id": "cdff1a0c",
   "metadata": {},
   "source": [
    "### 3.4. Виводимо таблиці з обчисленими даними."
   ]
  },
  {
   "cell_type": "code",
   "execution_count": 67,
   "id": "f0cde03a",
   "metadata": {},
   "outputs": [
    {
     "name": "stdout",
     "output_type": "stream",
     "text": [
      "Var          ban_s    ban_t    open_S    bt/bs, %    os/bs, %\n",
      "---------  -------  -------  --------  ----------  ----------\n",
      "Baseline     47652    24466     24458       51.34       51.33\n",
      "Variant A    49686    25100     25084       50.52       50.49\n",
      "Variant B    61444    29527     29513       48.06       48.03\n",
      "Variant C    61444    29527     29513       48.06       48.03\n"
     ]
    }
   ],
   "source": [
    "# перша частина таблиці\n",
    "table_banner_2_1 = [\n",
    "    \n",
    "         ['Var', 'ban_s', 'ban_t', 'open_S', \n",
    "                   'bt/bs, %', 'os/bs, %', 'dif bt/bs, %', 'dif os/bs, %'], \n",
    "         \n",
    "         ['Baseline', banner_show_b, banner_touch_b, open_store_b, round((bt_bs_b * 100), 2), \n",
    "          round((os_bs_b * 100), 2)],\n",
    "        \n",
    "         ['Variant A', banner_show_v_A, banner_touch_v_A, open_store_v_A, round((bt_bs_v_A * 100), 2), \n",
    "          round((os_bs_v_A * 100), 2)],\n",
    "\n",
    "         ['Variant B', banner_show_v_B, banner_touch_v_B, open_store_v_B, round((bt_bs_v_B * 100), 2), \n",
    "          round((os_bs_v_B * 100), 2)],\n",
    "                    \n",
    "         ['Variant C', banner_show_v_C, banner_touch_v_C, open_store_v_C, round((bt_bs_v_C * 100), 2), \n",
    "          round((os_bs_v_C * 100), 2)]\n",
    "                   \n",
    "]\n",
    "\n",
    "# Друга частина таблиці\n",
    "table_banner_2_2 = [\n",
    "    \n",
    "         ['Var', 'dif bt/bs, %', 'dif os/bs, %', 'sign bt/bs', 'sign os/bs'], \n",
    "         \n",
    "         ['Baseline'],\n",
    "        \n",
    "         ['Variant A', round((dif_bt_bs_v_A * 100), 2), round((dif_os_bs_v_A * 100), 2),\n",
    "         (1 - 2 * norm().sf(bt_bs_z_score_v_A)) * 100, (1 - 2 * norm().sf(os_bs_z_score_v_A)) * 100],\n",
    "\n",
    "         ['Variant B', round((dif_bt_bs_v_B * 100), 2), round((dif_os_bs_v_B * 100), 2),\n",
    "         (1 - 2 * norm().sf(bt_bs_z_score_v_B)) * 100, (1 - 2 * norm().sf(os_bs_z_score_v_B)) * 100],\n",
    "                    \n",
    "         ['Variant C', round((dif_bt_bs_v_C * 100), 2), round((dif_os_bs_v_C * 100), 2),\n",
    "         (1 - 2 * norm().sf(bt_bs_z_score_v_C)) * 100, (1 - 2 * norm().sf(os_bs_z_score_v_C)) * 100]\n",
    "                   \n",
    "]\n",
    "\n",
    "# виведення першої частини таблиці\n",
    "print(tabulate(table_banner_2_1, headers='firstrow'))"
   ]
  },
  {
   "cell_type": "code",
   "execution_count": 68,
   "id": "10e9476c",
   "metadata": {},
   "outputs": [
    {
     "name": "stdout",
     "output_type": "stream",
     "text": [
      "Var          dif bt/bs, %    dif os/bs, %    sign bt/bs    sign os/bs\n",
      "---------  --------------  --------------  ------------  ------------\n",
      "Baseline\n",
      "Variant A           -1.61           -1.64       99.0018       99.1323\n",
      "Variant B           -6.4            -6.42      100           100\n",
      "Variant C           -6.4            -6.42      100           100\n"
     ]
    }
   ],
   "source": [
    "# виведення другої частини таблиці\n",
    "print(tabulate(table_banner_2_2, headers='firstrow'))"
   ]
  },
  {
   "cell_type": "markdown",
   "id": "c4d1c7d9",
   "metadata": {},
   "source": [
    "### 3.5. Отримуємо дані про статистичну значимість (двостороння гіпотеза). "
   ]
  },
  {
   "cell_type": "code",
   "execution_count": 40,
   "id": "e4d91600",
   "metadata": {},
   "outputs": [
    {
     "name": "stdout",
     "output_type": "stream",
     "text": [
      "Variant A\n",
      "Є статистична значимість bt_bs.\n",
      "Є статистична значимість os_bs.\n",
      "\n",
      "Variant B\n",
      "Є статистична значимість bt_bs.\n",
      "Є статистична значимість os_bs.\n",
      "\n",
      "Variant C\n",
      "Є статистична значимість bt_bs.\n",
      "Є статистична значимість os_bs.\n"
     ]
    }
   ],
   "source": [
    "print('Variant A')\n",
    "\n",
    "if norm().sf(bt_bs_z_score_v_A) < 0.025 or norm().sf(bt_bs_z_score_v_A) == 0.025:\n",
    "    print('Є статистична значимість bt_bs.')\n",
    "    \n",
    "if norm().sf(os_bs_z_score_v_A) < 0.025 or norm().sf(os_bs_z_score_v_A) == 0.025:\n",
    "    print('Є статистична значимість os_bs.')   \n",
    "\n",
    "if norm().sf(bt_bs_z_score_v_A) > 0.025 and norm().sf(os_bs_z_score_v_A) > 0.025:\n",
    "    print('Статистичної значимості ніде немає.')\n",
    "    \n",
    "print()    \n",
    "print('Variant B')\n",
    "\n",
    "if norm().sf(bt_bs_z_score_v_B) < 0.025 or norm().sf(bt_bs_z_score_v_B) == 0.025:\n",
    "    print('Є статистична значимість bt_bs.')\n",
    "    \n",
    "if norm().sf(os_bs_z_score_v_B) < 0.025 or norm().sf(os_bs_z_score_v_B) == 0.025:\n",
    "    print('Є статистична значимість os_bs.')   \n",
    "\n",
    "if norm().sf(bt_bs_z_score_v_B) > 0.025 and norm().sf(os_bs_z_score_v_B) > 0.025:\n",
    "    print('Статистичної значимості ніде немає.')\n",
    "    \n",
    "print()    \n",
    "print('Variant C')\n",
    "\n",
    "if norm().sf(bt_bs_z_score_v_C) < 0.025 or norm().sf(bt_bs_z_score_v_C) == 0.025:\n",
    "    print('Є статистична значимість bt_bs.')\n",
    "    \n",
    "if norm().sf(os_bs_z_score_v_C) < 0.025 or norm().sf(os_bs_z_score_v_C) == 0.025:\n",
    "    print('Є статистична значимість os_bs.')   \n",
    "\n",
    "if norm().sf(bt_bs_z_score_v_C) > 0.025 and norm().sf(os_bs_z_score_v_C) > 0.025:\n",
    "    print('Статистичної значимості ніде немає.')"
   ]
  },
  {
   "cell_type": "code",
   "execution_count": null,
   "id": "55493ae7",
   "metadata": {},
   "outputs": [],
   "source": []
  }
 ],
 "metadata": {
  "kernelspec": {
   "display_name": "Python 3",
   "language": "python",
   "name": "python3"
  },
  "language_info": {
   "codemirror_mode": {
    "name": "ipython",
    "version": 3
   },
   "file_extension": ".py",
   "mimetype": "text/x-python",
   "name": "python",
   "nbconvert_exporter": "python",
   "pygments_lexer": "ipython3",
   "version": "3.8.8"
  }
 },
 "nbformat": 4,
 "nbformat_minor": 5
}
