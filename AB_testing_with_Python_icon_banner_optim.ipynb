{
 "cells": [
  {
   "cell_type": "markdown",
   "metadata": {},
   "source": [
    "# Обчислення A/B-тесту з одним варіантом"
   ]
  },
  {
   "cell_type": "markdown",
   "metadata": {},
   "source": [
    "## 1. Встановлюємо та імпортуємо необхідні бібліотеки"
   ]
  },
  {
   "cell_type": "code",
   "execution_count": 1,
   "metadata": {},
   "outputs": [
    {
     "name": "stdout",
     "output_type": "stream",
     "text": [
      "Collecting tabulate\n",
      "  Downloading tabulate-0.8.9-py3-none-any.whl (25 kB)\n",
      "Installing collected packages: tabulate\n",
      "Successfully installed tabulate-0.8.9\n",
      "Note: you may need to restart the kernel to use updated packages.\n"
     ]
    },
    {
     "name": "stderr",
     "output_type": "stream",
     "text": [
      "WARNING: Ignoring invalid distribution -umpy (c:\\users\\user\\anaconda4\\lib\\site-packages)\n",
      "WARNING: Ignoring invalid distribution -umpy (c:\\users\\user\\anaconda4\\lib\\site-packages)\n",
      "WARNING: Ignoring invalid distribution -umpy (c:\\users\\user\\anaconda4\\lib\\site-packages)\n",
      "WARNING: Ignoring invalid distribution -umpy (c:\\users\\user\\anaconda4\\lib\\site-packages)\n",
      "WARNING: Ignoring invalid distribution -umpy (c:\\users\\user\\anaconda4\\lib\\site-packages)\n",
      "WARNING: Ignoring invalid distribution -umpy (c:\\users\\user\\anaconda4\\lib\\site-packages)\n",
      "WARNING: Ignoring invalid distribution -umpy (c:\\users\\user\\anaconda4\\lib\\site-packages)\n",
      "WARNING: You are using pip version 21.1.3; however, version 21.2.4 is available.\n",
      "You should consider upgrading via the 'C:\\Users\\User\\anaconda4\\python.exe -m pip install --upgrade pip' command.\n"
     ]
    }
   ],
   "source": [
    "pip install tabulate"
   ]
  },
  {
   "cell_type": "code",
   "execution_count": 2,
   "metadata": {},
   "outputs": [
    {
     "name": "stdout",
     "output_type": "stream",
     "text": [
      "Requirement already satisfied: scipy in c:\\users\\user\\anaconda4\\lib\\site-packages (1.4.1)\n",
      "Requirement already satisfied: numpy>=1.13.3 in c:\\users\\user\\anaconda4\\lib\\site-packages (from scipy) (1.19.5)\n",
      "Note: you may need to restart the kernel to use updated packages.\n"
     ]
    },
    {
     "name": "stderr",
     "output_type": "stream",
     "text": [
      "WARNING: Ignoring invalid distribution -umpy (c:\\users\\user\\anaconda4\\lib\\site-packages)\n",
      "WARNING: Ignoring invalid distribution -umpy (c:\\users\\user\\anaconda4\\lib\\site-packages)\n",
      "WARNING: Ignoring invalid distribution -umpy (c:\\users\\user\\anaconda4\\lib\\site-packages)\n",
      "WARNING: Ignoring invalid distribution -umpy (c:\\users\\user\\anaconda4\\lib\\site-packages)\n",
      "WARNING: Ignoring invalid distribution -umpy (c:\\users\\user\\anaconda4\\lib\\site-packages)\n",
      "WARNING: Ignoring invalid distribution -umpy (c:\\users\\user\\anaconda4\\lib\\site-packages)\n",
      "WARNING: You are using pip version 21.1.3; however, version 21.2.4 is available.\n",
      "You should consider upgrading via the 'C:\\Users\\User\\anaconda4\\python.exe -m pip install --upgrade pip' command.\n"
     ]
    }
   ],
   "source": [
    "pip install scipy"
   ]
  },
  {
   "cell_type": "code",
   "execution_count": 44,
   "metadata": {},
   "outputs": [],
   "source": [
    "import matplotlib.pyplot as plt\n",
    "import numpy as np\n",
    "import pandas as pd\n",
    "from scipy.stats import binom, norm\n",
    "from tabulate import tabulate"
   ]
  },
  {
   "cell_type": "markdown",
   "metadata": {},
   "source": [
    "## 2. Обчислення стосовно іконки."
   ]
  },
  {
   "cell_type": "markdown",
   "metadata": {},
   "source": [
    "### 2.1. Вводимо необхідні дані."
   ]
  },
  {
   "cell_type": "code",
   "execution_count": 145,
   "metadata": {},
   "outputs": [],
   "source": [
    "# A — Baseline, B, C, D — тестові\n",
    "\n",
    "# побачило іконку\n",
    "icon_vis_baseline = 39572\n",
    "icon_vis_variant_A = 39814\n",
    "icon_vis_variant_B = 39619\n",
    "icon_vis_variant_C = 39537\n",
    "icon_vis_variant_D = 39537\n",
    "\n",
    "# натисло на іконку\n",
    "icon_touch_baseline = 2802\n",
    "icon_touch_variant_A = 3472\n",
    "icon_touch_variant_B = 3565\n",
    "icon_touch_variant_C = 3003\n",
    "icon_touch_variant_D = 3003\n",
    "\n",
    "# відкрило магазин\n",
    "open_store_baseline  = 605\n",
    "open_store_variant_A = 740\n",
    "open_store_variant_B = 801\n",
    "open_store_variant_C = 645\n",
    "open_store_variant_D = 645"
   ]
  },
  {
   "cell_type": "markdown",
   "metadata": {},
   "source": [
    "### 2.2. Ініціалізуємо потрібні для роботи функції."
   ]
  },
  {
   "cell_type": "code",
   "execution_count": 146,
   "metadata": {},
   "outputs": [],
   "source": [
    "# конверсія\n",
    "def ratio(visitors_A, conversions_A):\n",
    "    rate_A = conversions_A / visitors_A \n",
    "    return rate_A"
   ]
  },
  {
   "cell_type": "code",
   "execution_count": 147,
   "metadata": {},
   "outputs": [],
   "source": [
    "# обчислення z-score\n",
    "def z_score(visitors_A, visitors_B, conversions_A, conversions_B):\n",
    "    \n",
    "    rate_A = conversions_A / visitors_A\n",
    "    rate_B = conversions_B / visitors_B\n",
    "    \n",
    "    std_A = np.sqrt(rate_A * (1 - rate_A) / visitors_A)\n",
    "    std_B = np.sqrt(rate_B * (1 - rate_B) / visitors_B)\n",
    "    \n",
    "    z_score = abs((rate_B - rate_A) / np.sqrt(std_B**2 + std_A**2))\n",
    "    \n",
    "    return z_score"
   ]
  },
  {
   "cell_type": "code",
   "execution_count": 148,
   "metadata": {},
   "outputs": [],
   "source": [
    "# обчислення різниці\n",
    "def difference(visitors_A, visitors_B):\n",
    "    difference_A = round((((visitors_B - visitors_A) / visitors_A) * 100), 2)\n",
    "    return difference_A"
   ]
  },
  {
   "cell_type": "code",
   "execution_count": 149,
   "metadata": {},
   "outputs": [],
   "source": [
    "# визначення наявності статзначимості\n",
    "def signif(z_score_1, z_score_2, z_score_3):\n",
    "    \n",
    "    if norm().sf(z_score_1) <= 0.025:\n",
    "        print('Є статистична значимість it/iv.')\n",
    "    \n",
    "    if norm().sf(z_score_2) <= 0.025:\n",
    "        print('Є статистична значимість os/it.')\n",
    "\n",
    "    if norm().sf(z_score_3) <= 0.025:\n",
    "        print('Є статистична значимість os/iv.')   \n",
    "\n",
    "    if norm().sf(z_score_1) > 0.025 and norm().sf(z_score_2) > 0.025 and norm().sf(z_score_3) > 0.025:\n",
    "        print('Статистичної значимості ніде немає.')\n",
    "        \n",
    "    return 'End'"
   ]
  },
  {
   "cell_type": "markdown",
   "metadata": {},
   "source": [
    "### 2.3. Обчислюємо z-score для p-value (двостороння гіпотеза)."
   ]
  },
  {
   "cell_type": "code",
   "execution_count": 150,
   "metadata": {},
   "outputs": [],
   "source": [
    "# для варіанта A\n",
    "it_iv_z_score_variant_A = z_score(icon_vis_baseline, icon_vis_variant_A, icon_touch_baseline, icon_touch_variant_A)\n",
    "os_it_z_score_variant_A = z_score(icon_touch_baseline, icon_touch_variant_A, open_store_baseline, open_store_variant_A)\n",
    "os_iv_z_score_variant_A = z_score(icon_vis_baseline, icon_vis_variant_A, open_store_baseline, open_store_variant_A)\n",
    "\n",
    "# для варіанта B\n",
    "it_iv_z_score_variant_B = z_score(icon_vis_baseline, icon_vis_variant_B, icon_touch_baseline, icon_touch_variant_B)\n",
    "os_it_z_score_variant_B = z_score(icon_touch_baseline, icon_touch_variant_B, open_store_baseline, open_store_variant_B)\n",
    "os_iv_z_score_variant_B = z_score(icon_vis_baseline, icon_vis_variant_B, open_store_baseline, open_store_variant_B)\n",
    "\n",
    "# для варіанта C\n",
    "it_iv_z_score_variant_C = z_score(icon_vis_baseline, icon_vis_variant_C, icon_touch_baseline, icon_touch_variant_C)\n",
    "os_it_z_score_variant_C = z_score(icon_touch_baseline, icon_touch_variant_C, open_store_baseline, open_store_variant_C)\n",
    "os_iv_z_score_variant_C = z_score(icon_vis_baseline, icon_vis_variant_C, open_store_baseline, open_store_variant_C)\n",
    "\n",
    "# для варіанта D\n",
    "it_iv_z_score_variant_D = z_score(icon_vis_baseline, icon_vis_variant_D, icon_touch_baseline, icon_touch_variant_D)\n",
    "os_it_z_score_variant_D = z_score(icon_touch_baseline, icon_touch_variant_D, open_store_baseline, open_store_variant_D)\n",
    "os_iv_z_score_variant_D = z_score(icon_vis_baseline, icon_vis_variant_D, open_store_baseline, open_store_variant_D)"
   ]
  },
  {
   "cell_type": "markdown",
   "metadata": {},
   "source": [
    "### 2.4. Обчислюємо решту потрібних показників для таблиці."
   ]
  },
  {
   "cell_type": "code",
   "execution_count": 151,
   "metadata": {},
   "outputs": [],
   "source": [
    "# конверсії \n",
    "it_iv_baseline = ratio(icon_vis_baseline, icon_touch_baseline)\n",
    "os_it_baseline = ratio(icon_touch_baseline, open_store_baseline)\n",
    "os_iv_baseline = ratio(icon_vis_baseline, open_store_baseline)\n",
    "\n",
    "it_iv_variant_A = ratio(icon_vis_variant_A, icon_touch_variant_A)\n",
    "os_it_variant_A = ratio(icon_touch_variant_A, open_store_variant_A)\n",
    "os_iv_variant_A = ratio(icon_vis_variant_A, open_store_variant_A)\n",
    "\n",
    "it_iv_variant_B = ratio(icon_vis_variant_B, icon_touch_variant_B)\n",
    "os_it_variant_B = ratio(icon_touch_variant_B, open_store_variant_B)\n",
    "os_iv_variant_B = ratio(icon_vis_variant_B, open_store_variant_B)\n",
    "\n",
    "it_iv_variant_C = ratio(icon_vis_variant_C, icon_touch_variant_C)\n",
    "os_it_variant_C = ratio(icon_touch_variant_C, open_store_variant_C)\n",
    "os_iv_variant_C = ratio(icon_vis_variant_C, open_store_variant_C)\n",
    "\n",
    "it_iv_variant_D = ratio(icon_vis_variant_D, icon_touch_variant_D)\n",
    "os_it_variant_D = ratio(icon_touch_variant_D, open_store_variant_D)\n",
    "os_iv_variant_D = ratio(icon_vis_variant_D, open_store_variant_D)\n",
    "\n",
    "# різниці\n",
    "diff_it_iv_variant_A = difference(it_iv_baseline, it_iv_variant_A)\n",
    "diff_os_it_variant_A = difference(os_it_baseline, os_it_variant_A)\n",
    "diff_os_iv_variant_A = difference(os_iv_baseline, os_iv_variant_A)\n",
    "\n",
    "diff_it_iv_variant_B = difference(it_iv_baseline, it_iv_variant_B)\n",
    "diff_os_it_variant_B = difference(os_it_baseline, os_it_variant_B)\n",
    "diff_os_iv_variant_B = difference(os_iv_baseline, os_iv_variant_B)\n",
    "\n",
    "diff_it_iv_variant_C = difference(it_iv_baseline, it_iv_variant_C)\n",
    "diff_os_it_variant_C = difference(os_it_baseline, os_it_variant_C)\n",
    "diff_os_iv_variant_C = difference(os_iv_baseline, os_iv_variant_C)\n",
    "\n",
    "diff_it_iv_variant_D = difference(it_iv_baseline, it_iv_variant_D)\n",
    "diff_os_it_variant_D = difference(os_it_baseline, os_it_variant_D)\n",
    "diff_os_iv_variant_D = difference(os_iv_baseline, os_iv_variant_D)"
   ]
  },
  {
   "cell_type": "markdown",
   "metadata": {},
   "source": [
    "### 2.5. Виводимо таблицю з обчисленими даними."
   ]
  },
  {
   "cell_type": "code",
   "execution_count": 152,
   "metadata": {},
   "outputs": [
    {
     "data": {
      "text/html": [
       "<div>\n",
       "<style scoped>\n",
       "    .dataframe tbody tr th:only-of-type {\n",
       "        vertical-align: middle;\n",
       "    }\n",
       "\n",
       "    .dataframe tbody tr th {\n",
       "        vertical-align: top;\n",
       "    }\n",
       "\n",
       "    .dataframe thead th {\n",
       "        text-align: right;\n",
       "    }\n",
       "</style>\n",
       "<table border=\"1\" class=\"dataframe\">\n",
       "  <thead>\n",
       "    <tr style=\"text-align: right;\">\n",
       "      <th></th>\n",
       "      <th>icon_vis</th>\n",
       "      <th>icon_touch</th>\n",
       "      <th>open_Store</th>\n",
       "      <th>it/iv, %</th>\n",
       "      <th>os/it, %</th>\n",
       "      <th>os/iv, %</th>\n",
       "      <th>dif it/iv, %</th>\n",
       "      <th>dif os/it, %</th>\n",
       "      <th>dif os/iv, %</th>\n",
       "      <th>sign it/iv</th>\n",
       "      <th>sign os/it</th>\n",
       "      <th>sign os/iv</th>\n",
       "    </tr>\n",
       "  </thead>\n",
       "  <tbody>\n",
       "    <tr>\n",
       "      <th>Baseline</th>\n",
       "      <td>39572</td>\n",
       "      <td>2802</td>\n",
       "      <td>605</td>\n",
       "      <td>7.08</td>\n",
       "      <td>21.59</td>\n",
       "      <td>1.53</td>\n",
       "      <td>--------</td>\n",
       "      <td>--------</td>\n",
       "      <td>--------</td>\n",
       "      <td>--------</td>\n",
       "      <td>--------</td>\n",
       "      <td>--------</td>\n",
       "    </tr>\n",
       "    <tr>\n",
       "      <th>Variant A</th>\n",
       "      <td>39814</td>\n",
       "      <td>3472</td>\n",
       "      <td>740</td>\n",
       "      <td>8.72</td>\n",
       "      <td>21.31</td>\n",
       "      <td>1.86</td>\n",
       "      <td>23.16</td>\n",
       "      <td>-1.29</td>\n",
       "      <td>21.57</td>\n",
       "      <td>100</td>\n",
       "      <td>21.05</td>\n",
       "      <td>99.97</td>\n",
       "    </tr>\n",
       "    <tr>\n",
       "      <th>Variant B</th>\n",
       "      <td>39619</td>\n",
       "      <td>3565</td>\n",
       "      <td>801</td>\n",
       "      <td>9.00</td>\n",
       "      <td>22.47</td>\n",
       "      <td>2.02</td>\n",
       "      <td>27.08</td>\n",
       "      <td>4.06</td>\n",
       "      <td>32.24</td>\n",
       "      <td>100</td>\n",
       "      <td>59.83</td>\n",
       "      <td>100</td>\n",
       "    </tr>\n",
       "    <tr>\n",
       "      <th>Variant C</th>\n",
       "      <td>39537</td>\n",
       "      <td>3003</td>\n",
       "      <td>645</td>\n",
       "      <td>7.60</td>\n",
       "      <td>21.48</td>\n",
       "      <td>1.63</td>\n",
       "      <td>7.27</td>\n",
       "      <td>-0.52</td>\n",
       "      <td>6.71</td>\n",
       "      <td>99.45</td>\n",
       "      <td>8.35</td>\n",
       "      <td>75.24</td>\n",
       "    </tr>\n",
       "    <tr>\n",
       "      <th>Variant D</th>\n",
       "      <td>39537</td>\n",
       "      <td>3003</td>\n",
       "      <td>645</td>\n",
       "      <td>7.60</td>\n",
       "      <td>21.48</td>\n",
       "      <td>1.63</td>\n",
       "      <td>7.27</td>\n",
       "      <td>-0.52</td>\n",
       "      <td>6.71</td>\n",
       "      <td>99.45</td>\n",
       "      <td>8.35</td>\n",
       "      <td>75.24</td>\n",
       "    </tr>\n",
       "  </tbody>\n",
       "</table>\n",
       "</div>"
      ],
      "text/plain": [
       "           icon_vis  icon_touch  open_Store  it/iv, %  os/it, %  os/iv, %  \\\n",
       "Baseline      39572        2802         605      7.08     21.59      1.53   \n",
       "Variant A     39814        3472         740      8.72     21.31      1.86   \n",
       "Variant B     39619        3565         801      9.00     22.47      2.02   \n",
       "Variant C     39537        3003         645      7.60     21.48      1.63   \n",
       "Variant D     39537        3003         645      7.60     21.48      1.63   \n",
       "\n",
       "          dif it/iv, % dif os/it, % dif os/iv, % sign it/iv sign os/it  \\\n",
       "Baseline      --------     --------     --------   --------   --------   \n",
       "Variant A        23.16        -1.29        21.57        100      21.05   \n",
       "Variant B        27.08         4.06        32.24        100      59.83   \n",
       "Variant C         7.27        -0.52         6.71      99.45       8.35   \n",
       "Variant D         7.27        -0.52         6.71      99.45       8.35   \n",
       "\n",
       "          sign os/iv  \n",
       "Baseline    --------  \n",
       "Variant A      99.97  \n",
       "Variant B        100  \n",
       "Variant C      75.24  \n",
       "Variant D      75.24  "
      ]
     },
     "execution_count": 152,
     "metadata": {},
     "output_type": "execute_result"
    }
   ],
   "source": [
    "df_icon_content = {\n",
    "             'icon_vis': [icon_vis_baseline, icon_vis_variant_A, icon_vis_variant_B, icon_vis_variant_C, icon_vis_variant_D],\n",
    "             'icon_touch': [icon_touch_baseline, icon_touch_variant_A, icon_touch_variant_B, \n",
    "                            icon_touch_variant_C, icon_touch_variant_D],\n",
    "             'open_Store': [open_store_baseline, open_store_variant_A, open_store_variant_B, \n",
    "                            open_store_variant_C, open_store_variant_D],\n",
    "             'it/iv, %': [round((it_iv_baseline * 100), 2), round((it_iv_variant_A * 100), 2), \n",
    "                          round((it_iv_variant_B * 100), 2), round((it_iv_variant_C * 100), 2), \n",
    "                          round((it_iv_variant_D * 100), 2)],\n",
    "             'os/it, %': [round((os_it_baseline * 100), 2), round((os_it_variant_A * 100), 2), \n",
    "                          round((os_it_variant_B * 100), 2), round((os_it_variant_C * 100), 2), \n",
    "                          round((os_it_variant_D * 100), 2)], \n",
    "             'os/iv, %': [round((os_iv_baseline * 100), 2), round((os_iv_variant_A * 100), 2), \n",
    "                          round((os_iv_variant_B * 100), 2), round((os_iv_variant_C * 100), 2), \n",
    "                          round((os_iv_variant_D * 100), 2)],\n",
    "             'dif it/iv, %': ['--------', diff_it_iv_variant_A, diff_it_iv_variant_B, \n",
    "                              diff_it_iv_variant_C, diff_it_iv_variant_D],  \n",
    "             'dif os/it, %': ['--------', diff_os_it_variant_A, diff_os_it_variant_B, \n",
    "                              diff_os_it_variant_C, diff_os_it_variant_D],\n",
    "             'dif os/iv, %': ['--------', diff_os_iv_variant_A, diff_os_iv_variant_B, \n",
    "                              diff_os_iv_variant_C, diff_os_iv_variant_D],\n",
    "             'sign it/iv': ['--------', \n",
    "                            round(((1 - 2 * norm().sf(it_iv_z_score_variant_A)) * 100), 2), \n",
    "                            round(((1 - 2 * norm().sf(it_iv_z_score_variant_B)) * 100), 2), \n",
    "                            round(((1 - 2 * norm().sf(it_iv_z_score_variant_C)) * 100), 2), \n",
    "                            round(((1 - 2 * norm().sf(it_iv_z_score_variant_D)) * 100), 2)],\n",
    "             'sign os/it': ['--------', \n",
    "                            round(((1 - 2 * norm().sf(os_it_z_score_variant_A)) * 100), 2), \n",
    "                            round(((1 - 2 * norm().sf(os_it_z_score_variant_B)) * 100), 2), \n",
    "                            round(((1 - 2 * norm().sf(os_it_z_score_variant_C)) * 100), 2), \n",
    "                            round(((1 - 2 * norm().sf(os_it_z_score_variant_D)) * 100), 2)],  \n",
    "             'sign os/iv': ['--------', \n",
    "                            round(((1 - 2 * norm().sf(os_iv_z_score_variant_A)) * 100), 2), \n",
    "                            round(((1 - 2 * norm().sf(os_iv_z_score_variant_B)) * 100), 2),\n",
    "                            round(((1 - 2 * norm().sf(os_iv_z_score_variant_C)) * 100), 2), \n",
    "                            round(((1 - 2 * norm().sf(os_iv_z_score_variant_D)) * 100), 2)]\n",
    "}\n",
    "\n",
    "df_icon = pd.DataFrame(df_icon_content, index = ['Baseline', 'Variant A', 'Variant B', 'Variant C', 'Variant D'])\n",
    "df_icon"
   ]
  },
  {
   "cell_type": "markdown",
   "metadata": {},
   "source": [
    "### 2.6. Отримуємо дані про статистичну значимість (двостороння гіпотеза). "
   ]
  },
  {
   "cell_type": "code",
   "execution_count": 153,
   "metadata": {},
   "outputs": [
    {
     "name": "stdout",
     "output_type": "stream",
     "text": [
      "Variant A\n",
      "Є статистична значимість it/iv.\n",
      "Є статистична значимість os/iv.\n",
      "End\n",
      "\n",
      "Variant B\n",
      "Є статистична значимість it/iv.\n",
      "Є статистична значимість os/iv.\n",
      "End\n",
      "\n",
      "Variant C\n",
      "Є статистична значимість it/iv.\n",
      "End\n",
      "\n",
      "Variant D\n",
      "Є статистична значимість it/iv.\n",
      "End\n"
     ]
    }
   ],
   "source": [
    "print('Variant A')\n",
    "print(signif(it_iv_z_score_variant_A, os_it_z_score_variant_A, os_iv_z_score_variant_A))\n",
    "print()\n",
    "print('Variant B')\n",
    "print(signif(it_iv_z_score_variant_B, os_it_z_score_variant_B, os_iv_z_score_variant_B))\n",
    "print()\n",
    "print('Variant C')\n",
    "print(signif(it_iv_z_score_variant_C, os_it_z_score_variant_C, os_iv_z_score_variant_C))\n",
    "print()\n",
    "print('Variant D')\n",
    "print(signif(it_iv_z_score_variant_D, os_it_z_score_variant_D, os_iv_z_score_variant_D))"
   ]
  },
  {
   "cell_type": "markdown",
   "metadata": {},
   "source": [
    "## 3. Обчислення стосовно банеру."
   ]
  },
  {
   "cell_type": "markdown",
   "metadata": {},
   "source": [
    "### 3.1. Вводимо необхідні дані."
   ]
  },
  {
   "cell_type": "code",
   "execution_count": 154,
   "metadata": {},
   "outputs": [],
   "source": [
    "# A — Baseline, B, C, D — тестові\n",
    "\n",
    "# побачило іконку\n",
    "icon_vis_baseline = 39572\n",
    "icon_vis_variant_A = 39814\n",
    "icon_vis_variant_B = 39619\n",
    "icon_vis_variant_C = 39537\n",
    "icon_vis_variant_D = 39537\n",
    "\n",
    "# побачило баннер\n",
    "banner_show_baseline = 2802\n",
    "banner_show_variant_A = 3471\n",
    "banner_show_variant_B = 3565\n",
    "banner_show_variant_C = 3003\n",
    "banner_show_variant_D = 3003\n",
    "\n",
    "# натисло на іконку\n",
    "banner_touch_baseline = 1542\n",
    "banner_touch_variant_A = 1946\n",
    "banner_touch_variant_B = 2028\n",
    "banner_touch_variant_C = 1695\n",
    "banner_touch_variant_D = 1695\n",
    "\n",
    "# відкрило магазин\n",
    "open_store_baseline  = 605\n",
    "open_store_variant_A = 740\n",
    "open_store_variant_B = 801\n",
    "open_store_variant_C = 645\n",
    "open_store_variant_D = 645"
   ]
  },
  {
   "cell_type": "markdown",
   "metadata": {},
   "source": [
    "### 3.2. Ініціалізуємо потрібні для роботи функції."
   ]
  },
  {
   "cell_type": "code",
   "execution_count": 155,
   "metadata": {},
   "outputs": [],
   "source": [
    "# конверсія\n",
    "def ratio(visitors_A, conversions_A):\n",
    "    rate_A = conversions_A / visitors_A \n",
    "    return rate_A"
   ]
  },
  {
   "cell_type": "code",
   "execution_count": 156,
   "metadata": {},
   "outputs": [],
   "source": [
    "# обчислення z-score\n",
    "def z_score(visitors_A, visitors_B, conversions_A, conversions_B):\n",
    "    \n",
    "    rate_A = conversions_A / visitors_A\n",
    "    rate_B = conversions_B / visitors_B\n",
    "    \n",
    "    std_A = np.sqrt(rate_A * (1 - rate_A) / visitors_A)\n",
    "    std_B = np.sqrt(rate_B * (1 - rate_B) / visitors_B)\n",
    "    \n",
    "    z_score = abs((rate_B - rate_A) / np.sqrt(std_B**2 + std_A**2))\n",
    "    \n",
    "    return z_score"
   ]
  },
  {
   "cell_type": "code",
   "execution_count": 157,
   "metadata": {},
   "outputs": [],
   "source": [
    "# обчислення різниці\n",
    "def difference(visitors_A, visitors_B):\n",
    "    difference_A = round((((visitors_B - visitors_A) / visitors_A) * 100), 2)\n",
    "    return difference_A"
   ]
  },
  {
   "cell_type": "code",
   "execution_count": 164,
   "metadata": {},
   "outputs": [],
   "source": [
    "# визначення наявності статзначимості\n",
    "def signif(z_score_1, z_score_2, z_score_3):\n",
    "    \n",
    "    if norm().sf(z_score_1) <= 0.025:\n",
    "        print('Є статистична значимість bs/iv.')\n",
    "    \n",
    "    if norm().sf(z_score_2) <= 0.025:\n",
    "        print('Є статистична значимість bt/bs.')\n",
    "\n",
    "    if norm().sf(z_score_3) <= 0.025:\n",
    "        print('Є статистична значимість os/bs.')   \n",
    "\n",
    "    if norm().sf(z_score_1) > 0.025 and norm().sf(z_score_2) > 0.025 and norm().sf(z_score_3) > 0.025:\n",
    "        print('Статистичної значимості ніде немає.')\n",
    "        \n",
    "    return 'End'"
   ]
  },
  {
   "cell_type": "markdown",
   "metadata": {},
   "source": [
    "### 3.3. Обчислюємо z-score для p-value (двостороння гіпотеза)."
   ]
  },
  {
   "cell_type": "code",
   "execution_count": 159,
   "metadata": {},
   "outputs": [],
   "source": [
    "# для варіанта A\n",
    "bs_iv_z_score_variant_A = z_score(icon_vis_baseline, icon_vis_variant_A, banner_show_baseline, banner_show_variant_A)\n",
    "bt_bs_z_score_variant_A = z_score(banner_show_baseline, banner_show_variant_A, \n",
    "                                  banner_touch_baseline, banner_touch_variant_A)\n",
    "os_bs_z_score_variant_A = z_score(banner_show_baseline, banner_show_variant_A, open_store_baseline, open_store_variant_A)\n",
    "\n",
    "# для варіанта B\n",
    "bs_iv_z_score_variant_B = z_score(icon_vis_baseline, icon_vis_variant_B, banner_show_baseline, banner_show_variant_B)\n",
    "bt_bs_z_score_variant_B = z_score(banner_show_baseline, banner_show_variant_B, \n",
    "                                  banner_touch_baseline, banner_touch_variant_B)\n",
    "os_bs_z_score_variant_B = z_score(banner_show_baseline, banner_show_variant_B, open_store_baseline, open_store_variant_B)\n",
    "\n",
    "# для варіанта C\n",
    "bs_iv_z_score_variant_C = z_score(icon_vis_baseline, icon_vis_variant_C, banner_show_baseline, banner_show_variant_C)\n",
    "bt_bs_z_score_variant_C = z_score(banner_show_baseline, banner_show_variant_C, \n",
    "                                  banner_touch_baseline, banner_touch_variant_C)\n",
    "os_bs_z_score_variant_C = z_score(banner_show_baseline, banner_show_variant_C, open_store_baseline, open_store_variant_C)\n",
    "\n",
    "# для варіанта D\n",
    "bs_iv_z_score_variant_D = z_score(icon_vis_baseline, icon_vis_variant_D, banner_show_baseline, banner_show_variant_D)\n",
    "bt_bs_z_score_variant_D = z_score(banner_show_baseline, banner_show_variant_D, \n",
    "                                  banner_touch_baseline, banner_touch_variant_D)\n",
    "os_bs_z_score_variant_D = z_score(banner_show_baseline, banner_show_variant_D, open_store_baseline, open_store_variant_D)"
   ]
  },
  {
   "cell_type": "markdown",
   "metadata": {},
   "source": [
    "### 3.4. Обчислюємо решту потрібних показників для таблиці."
   ]
  },
  {
   "cell_type": "code",
   "execution_count": 161,
   "metadata": {},
   "outputs": [],
   "source": [
    "# конверсії \n",
    "bs_iv_baseline = ratio(icon_vis_baseline, banner_show_baseline)\n",
    "bt_bs_baseline = ratio(banner_show_baseline, banner_touch_baseline)\n",
    "os_bs_baseline = ratio(banner_show_baseline, open_store_baseline)\n",
    "\n",
    "bs_iv_variant_A = ratio(icon_vis_variant_A, banner_show_variant_A)\n",
    "bt_bs_variant_A = ratio(banner_show_variant_A, banner_touch_variant_A)\n",
    "os_bs_variant_A = ratio(banner_show_variant_A, open_store_variant_A)\n",
    "\n",
    "bs_iv_variant_B = ratio(icon_vis_variant_B, banner_show_variant_B)\n",
    "bt_bs_variant_B = ratio(banner_show_variant_B, banner_touch_variant_B)\n",
    "os_bs_variant_B = ratio(banner_show_variant_B, open_store_variant_B)\n",
    "\n",
    "bs_iv_variant_C = ratio(icon_vis_variant_C, banner_show_variant_C)\n",
    "bt_bs_variant_C = ratio(banner_show_variant_C, banner_touch_variant_C)\n",
    "os_bs_variant_C = ratio(banner_show_variant_C, open_store_variant_C)\n",
    "\n",
    "bs_iv_variant_D = ratio(icon_vis_variant_D, banner_show_variant_D)\n",
    "bt_bs_variant_D = ratio(banner_show_variant_D, banner_touch_variant_D)\n",
    "os_bs_variant_D = ratio(banner_show_variant_D, open_store_variant_D)\n",
    "\n",
    "# різниці\n",
    "diff_bs_iv_variant_A = difference(bs_iv_baseline, bs_iv_variant_A)\n",
    "diff_bt_bs_variant_A = difference(bt_bs_baseline, bt_bs_variant_A)\n",
    "diff_os_bs_variant_A = difference(os_bs_baseline, os_bs_variant_A)\n",
    "\n",
    "diff_bs_iv_variant_B = difference(bs_iv_baseline, bs_iv_variant_B)\n",
    "diff_bt_bs_variant_B = difference(bt_bs_baseline, bt_bs_variant_B)\n",
    "diff_os_bs_variant_B = difference(os_bs_baseline, os_bs_variant_B)\n",
    "\n",
    "diff_bs_iv_variant_C = difference(bs_iv_baseline, bs_iv_variant_C)\n",
    "diff_bt_bs_variant_C = difference(bt_bs_baseline, bt_bs_variant_C)\n",
    "diff_os_bs_variant_C = difference(os_bs_baseline, os_bs_variant_C)\n",
    "\n",
    "diff_bs_iv_variant_D = difference(bs_iv_baseline, bs_iv_variant_D)\n",
    "diff_bt_bs_variant_D = difference(bt_bs_baseline, bt_bs_variant_D)\n",
    "diff_os_bs_variant_D = difference(os_bs_baseline, os_bs_variant_D)"
   ]
  },
  {
   "cell_type": "markdown",
   "metadata": {},
   "source": [
    "### 3.5. Виводимо таблицю з обчисленими даними."
   ]
  },
  {
   "cell_type": "code",
   "execution_count": 162,
   "metadata": {},
   "outputs": [
    {
     "data": {
      "text/html": [
       "<div>\n",
       "<style scoped>\n",
       "    .dataframe tbody tr th:only-of-type {\n",
       "        vertical-align: middle;\n",
       "    }\n",
       "\n",
       "    .dataframe tbody tr th {\n",
       "        vertical-align: top;\n",
       "    }\n",
       "\n",
       "    .dataframe thead th {\n",
       "        text-align: right;\n",
       "    }\n",
       "</style>\n",
       "<table border=\"1\" class=\"dataframe\">\n",
       "  <thead>\n",
       "    <tr style=\"text-align: right;\">\n",
       "      <th></th>\n",
       "      <th>banner_show</th>\n",
       "      <th>banner_touch</th>\n",
       "      <th>open_Store</th>\n",
       "      <th>bs/iv, %</th>\n",
       "      <th>bt/bs, %</th>\n",
       "      <th>os/bs, %</th>\n",
       "      <th>dif bs/iv, %</th>\n",
       "      <th>dif bt/bs, %</th>\n",
       "      <th>dif os/bs, %</th>\n",
       "      <th>sign bs/iv</th>\n",
       "      <th>sign bt/bs</th>\n",
       "      <th>sign os/bs</th>\n",
       "    </tr>\n",
       "  </thead>\n",
       "  <tbody>\n",
       "    <tr>\n",
       "      <th>Baseline</th>\n",
       "      <td>2802</td>\n",
       "      <td>1542</td>\n",
       "      <td>605</td>\n",
       "      <td>7.08</td>\n",
       "      <td>55.03</td>\n",
       "      <td>21.59</td>\n",
       "      <td>--------</td>\n",
       "      <td>--------</td>\n",
       "      <td>--------</td>\n",
       "      <td>--------</td>\n",
       "      <td>--------</td>\n",
       "      <td>--------</td>\n",
       "    </tr>\n",
       "    <tr>\n",
       "      <th>Variant A</th>\n",
       "      <td>3471</td>\n",
       "      <td>1946</td>\n",
       "      <td>740</td>\n",
       "      <td>8.72</td>\n",
       "      <td>56.06</td>\n",
       "      <td>21.32</td>\n",
       "      <td>23.12</td>\n",
       "      <td>1.88</td>\n",
       "      <td>-1.26</td>\n",
       "      <td>100</td>\n",
       "      <td>58.67</td>\n",
       "      <td>20.59</td>\n",
       "    </tr>\n",
       "    <tr>\n",
       "      <th>Variant B</th>\n",
       "      <td>3565</td>\n",
       "      <td>2028</td>\n",
       "      <td>801</td>\n",
       "      <td>9.00</td>\n",
       "      <td>56.89</td>\n",
       "      <td>22.47</td>\n",
       "      <td>27.08</td>\n",
       "      <td>3.37</td>\n",
       "      <td>4.06</td>\n",
       "      <td>100</td>\n",
       "      <td>86.09</td>\n",
       "      <td>59.83</td>\n",
       "    </tr>\n",
       "    <tr>\n",
       "      <th>Variant C</th>\n",
       "      <td>3003</td>\n",
       "      <td>1695</td>\n",
       "      <td>645</td>\n",
       "      <td>7.60</td>\n",
       "      <td>56.44</td>\n",
       "      <td>21.48</td>\n",
       "      <td>7.27</td>\n",
       "      <td>2.56</td>\n",
       "      <td>-0.52</td>\n",
       "      <td>99.45</td>\n",
       "      <td>72.07</td>\n",
       "      <td>8.35</td>\n",
       "    </tr>\n",
       "    <tr>\n",
       "      <th>Variant D</th>\n",
       "      <td>3003</td>\n",
       "      <td>1695</td>\n",
       "      <td>645</td>\n",
       "      <td>7.60</td>\n",
       "      <td>56.44</td>\n",
       "      <td>21.48</td>\n",
       "      <td>7.27</td>\n",
       "      <td>2.56</td>\n",
       "      <td>-0.52</td>\n",
       "      <td>99.45</td>\n",
       "      <td>72.07</td>\n",
       "      <td>8.35</td>\n",
       "    </tr>\n",
       "  </tbody>\n",
       "</table>\n",
       "</div>"
      ],
      "text/plain": [
       "           banner_show  banner_touch  open_Store  bs/iv, %  bt/bs, %  \\\n",
       "Baseline          2802          1542         605      7.08     55.03   \n",
       "Variant A         3471          1946         740      8.72     56.06   \n",
       "Variant B         3565          2028         801      9.00     56.89   \n",
       "Variant C         3003          1695         645      7.60     56.44   \n",
       "Variant D         3003          1695         645      7.60     56.44   \n",
       "\n",
       "           os/bs, % dif bs/iv, % dif bt/bs, % dif os/bs, % sign bs/iv  \\\n",
       "Baseline      21.59     --------     --------     --------   --------   \n",
       "Variant A     21.32        23.12         1.88        -1.26        100   \n",
       "Variant B     22.47        27.08         3.37         4.06        100   \n",
       "Variant C     21.48         7.27         2.56        -0.52      99.45   \n",
       "Variant D     21.48         7.27         2.56        -0.52      99.45   \n",
       "\n",
       "          sign bt/bs sign os/bs  \n",
       "Baseline    --------   --------  \n",
       "Variant A      58.67      20.59  \n",
       "Variant B      86.09      59.83  \n",
       "Variant C      72.07       8.35  \n",
       "Variant D      72.07       8.35  "
      ]
     },
     "execution_count": 162,
     "metadata": {},
     "output_type": "execute_result"
    }
   ],
   "source": [
    "df_banner_content = {\n",
    "             'banner_show': [banner_show_baseline, banner_show_variant_A, banner_show_variant_B, \n",
    "                             banner_show_variant_C, banner_show_variant_D],\n",
    "             'banner_touch': [banner_touch_baseline, banner_touch_variant_A, banner_touch_variant_B, \n",
    "                            banner_touch_variant_C, banner_touch_variant_D],\n",
    "             'open_Store': [open_store_baseline, open_store_variant_A, open_store_variant_B, \n",
    "                            open_store_variant_C, open_store_variant_D],\n",
    "             'bs/iv, %': [round((bs_iv_baseline * 100), 2), round((bs_iv_variant_A * 100), 2), \n",
    "                          round((bs_iv_variant_B * 100), 2), round((bs_iv_variant_C * 100), 2), \n",
    "                          round((bs_iv_variant_D * 100), 2)],\n",
    "             'bt/bs, %': [round((bt_bs_baseline * 100), 2), round((bt_bs_variant_A * 100), 2), \n",
    "                          round((bt_bs_variant_B * 100), 2), round((bt_bs_variant_C * 100), 2), \n",
    "                          round((bt_bs_variant_D * 100), 2)], \n",
    "             'os/bs, %': [round((os_bs_baseline * 100), 2), round((os_bs_variant_A * 100), 2), \n",
    "                          round((os_bs_variant_B * 100), 2), round((os_bs_variant_C * 100), 2), \n",
    "                          round((os_bs_variant_D * 100), 2)],\n",
    "             'dif bs/iv, %': ['--------', diff_bs_iv_variant_A, diff_bs_iv_variant_B, \n",
    "                              diff_bs_iv_variant_C, diff_bs_iv_variant_D],  \n",
    "             'dif bt/bs, %': ['--------', diff_bt_bs_variant_A, diff_bt_bs_variant_B, \n",
    "                              diff_bt_bs_variant_C, diff_bt_bs_variant_D],\n",
    "             'dif os/bs, %': ['--------', diff_os_bs_variant_A, diff_os_bs_variant_B, \n",
    "                              diff_os_bs_variant_C, diff_os_bs_variant_D],\n",
    "             'sign bs/iv': ['--------', \n",
    "                            round(((1 - 2 * norm().sf(bs_iv_z_score_variant_A)) * 100), 2), \n",
    "                            round(((1 - 2 * norm().sf(bs_iv_z_score_variant_B)) * 100), 2), \n",
    "                            round(((1 - 2 * norm().sf(bs_iv_z_score_variant_C)) * 100), 2), \n",
    "                            round(((1 - 2 * norm().sf(bs_iv_z_score_variant_D)) * 100), 2)],\n",
    "             'sign bt/bs': ['--------', \n",
    "                            round(((1 - 2 * norm().sf(bt_bs_z_score_variant_A)) * 100), 2), \n",
    "                            round(((1 - 2 * norm().sf(bt_bs_z_score_variant_B)) * 100), 2), \n",
    "                            round(((1 - 2 * norm().sf(bt_bs_z_score_variant_C)) * 100), 2), \n",
    "                            round(((1 - 2 * norm().sf(bt_bs_z_score_variant_D)) * 100), 2)],  \n",
    "             'sign os/bs': ['--------', \n",
    "                            round(((1 - 2 * norm().sf(os_bs_z_score_variant_A)) * 100), 2), \n",
    "                            round(((1 - 2 * norm().sf(os_bs_z_score_variant_B)) * 100), 2),\n",
    "                            round(((1 - 2 * norm().sf(os_bs_z_score_variant_C)) * 100), 2), \n",
    "                            round(((1 - 2 * norm().sf(os_bs_z_score_variant_D)) * 100), 2)]\n",
    "}\n",
    "\n",
    "df_banner = pd.DataFrame(df_banner_content, index = ['Baseline', 'Variant A', 'Variant B', 'Variant C', 'Variant D'])\n",
    "df_banner"
   ]
  },
  {
   "cell_type": "markdown",
   "metadata": {},
   "source": [
    "### 3.6. Отримуємо дані про статистичну значимість (двостороння гіпотеза). "
   ]
  },
  {
   "cell_type": "code",
   "execution_count": 165,
   "metadata": {},
   "outputs": [
    {
     "name": "stdout",
     "output_type": "stream",
     "text": [
      "Variant A\n",
      "Є статистична значимість bs/iv.\n",
      "End\n",
      "\n",
      "Variant B\n",
      "Є статистична значимість bs/iv.\n",
      "End\n",
      "\n",
      "Variant C\n",
      "Є статистична значимість bs/iv.\n",
      "End\n",
      "\n",
      "Variant D\n",
      "Є статистична значимість bs/iv.\n",
      "End\n"
     ]
    }
   ],
   "source": [
    "print('Variant A')\n",
    "print(signif(bs_iv_z_score_variant_A, bt_bs_z_score_variant_A, os_bs_z_score_variant_A))\n",
    "print()\n",
    "print('Variant B')\n",
    "print(signif(bs_iv_z_score_variant_B, bt_bs_z_score_variant_B, os_bs_z_score_variant_B))\n",
    "print()\n",
    "print('Variant C')\n",
    "print(signif(bs_iv_z_score_variant_C, bt_bs_z_score_variant_C, os_bs_z_score_variant_C))\n",
    "print()\n",
    "print('Variant D')\n",
    "print(signif(bs_iv_z_score_variant_D, bt_bs_z_score_variant_D, os_bs_z_score_variant_D))"
   ]
  },
  {
   "cell_type": "code",
   "execution_count": null,
   "metadata": {},
   "outputs": [],
   "source": []
  }
 ],
 "metadata": {
  "kernelspec": {
   "display_name": "Python 3",
   "language": "python",
   "name": "python3"
  },
  "language_info": {
   "codemirror_mode": {
    "name": "ipython",
    "version": 3
   },
   "file_extension": ".py",
   "mimetype": "text/x-python",
   "name": "python",
   "nbconvert_exporter": "python",
   "pygments_lexer": "ipython3",
   "version": "3.7.6"
  }
 },
 "nbformat": 4,
 "nbformat_minor": 5
}
