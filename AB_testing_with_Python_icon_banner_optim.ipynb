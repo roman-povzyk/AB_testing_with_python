{
 "cells": [
  {
   "cell_type": "markdown",
   "metadata": {},
   "source": [
    "# Обчислення A/B-тесту з одним варіантом"
   ]
  },
  {
   "cell_type": "markdown",
   "metadata": {},
   "source": [
    "## 1. Встановлюємо та імпортуємо необхідні бібліотеки"
   ]
  },
  {
   "cell_type": "code",
   "execution_count": 1,
   "metadata": {},
   "outputs": [
    {
     "name": "stdout",
     "output_type": "stream",
     "text": [
      "Collecting tabulate\n",
      "  Downloading tabulate-0.8.9-py3-none-any.whl (25 kB)\n",
      "Installing collected packages: tabulate\n",
      "Successfully installed tabulate-0.8.9\n",
      "Note: you may need to restart the kernel to use updated packages.\n"
     ]
    },
    {
     "name": "stderr",
     "output_type": "stream",
     "text": [
      "WARNING: Ignoring invalid distribution -umpy (c:\\users\\user\\anaconda4\\lib\\site-packages)\n",
      "WARNING: Ignoring invalid distribution -umpy (c:\\users\\user\\anaconda4\\lib\\site-packages)\n",
      "WARNING: Ignoring invalid distribution -umpy (c:\\users\\user\\anaconda4\\lib\\site-packages)\n",
      "WARNING: Ignoring invalid distribution -umpy (c:\\users\\user\\anaconda4\\lib\\site-packages)\n",
      "WARNING: Ignoring invalid distribution -umpy (c:\\users\\user\\anaconda4\\lib\\site-packages)\n",
      "WARNING: Ignoring invalid distribution -umpy (c:\\users\\user\\anaconda4\\lib\\site-packages)\n",
      "WARNING: Ignoring invalid distribution -umpy (c:\\users\\user\\anaconda4\\lib\\site-packages)\n",
      "WARNING: You are using pip version 21.1.3; however, version 21.2.4 is available.\n",
      "You should consider upgrading via the 'C:\\Users\\User\\anaconda4\\python.exe -m pip install --upgrade pip' command.\n"
     ]
    }
   ],
   "source": [
    "pip install tabulate"
   ]
  },
  {
   "cell_type": "code",
   "execution_count": 2,
   "metadata": {},
   "outputs": [
    {
     "name": "stdout",
     "output_type": "stream",
     "text": [
      "Requirement already satisfied: scipy in c:\\users\\user\\anaconda4\\lib\\site-packages (1.4.1)\n",
      "Requirement already satisfied: numpy>=1.13.3 in c:\\users\\user\\anaconda4\\lib\\site-packages (from scipy) (1.19.5)\n",
      "Note: you may need to restart the kernel to use updated packages.\n"
     ]
    },
    {
     "name": "stderr",
     "output_type": "stream",
     "text": [
      "WARNING: Ignoring invalid distribution -umpy (c:\\users\\user\\anaconda4\\lib\\site-packages)\n",
      "WARNING: Ignoring invalid distribution -umpy (c:\\users\\user\\anaconda4\\lib\\site-packages)\n",
      "WARNING: Ignoring invalid distribution -umpy (c:\\users\\user\\anaconda4\\lib\\site-packages)\n",
      "WARNING: Ignoring invalid distribution -umpy (c:\\users\\user\\anaconda4\\lib\\site-packages)\n",
      "WARNING: Ignoring invalid distribution -umpy (c:\\users\\user\\anaconda4\\lib\\site-packages)\n",
      "WARNING: Ignoring invalid distribution -umpy (c:\\users\\user\\anaconda4\\lib\\site-packages)\n",
      "WARNING: You are using pip version 21.1.3; however, version 21.2.4 is available.\n",
      "You should consider upgrading via the 'C:\\Users\\User\\anaconda4\\python.exe -m pip install --upgrade pip' command.\n"
     ]
    }
   ],
   "source": [
    "pip install scipy"
   ]
  },
  {
   "cell_type": "code",
   "execution_count": 22,
   "metadata": {},
   "outputs": [],
   "source": [
    "import matplotlib.pyplot as plt\n",
    "import numpy as np\n",
    "import pandas as pd\n",
    "from scipy.stats import binom, norm\n",
    "from tabulate import tabulate"
   ]
  },
  {
   "cell_type": "markdown",
   "metadata": {},
   "source": [
    "## 2. Обчислення стосовно іконки."
   ]
  },
  {
   "cell_type": "markdown",
   "metadata": {},
   "source": [
    "### 2.1. Вводимо необхідні дані."
   ]
  },
  {
   "cell_type": "code",
   "execution_count": 59,
   "metadata": {},
   "outputs": [],
   "source": [
    "# A — Baseline, B — тестова\n",
    "icon_vis_baseline = 3301\n",
    "icon_vis_variant_A = 3325\n",
    "icon_vis_variant_B = 3325\n",
    "icon_vis_variant_C = 3325\n",
    "icon_vis_variant_D = 3325\n",
    "\n",
    "icon_touch_baseline = 1279\n",
    "icon_touch_variant_A = 1293\n",
    "icon_touch_variant_B = 1293\n",
    "icon_touch_variant_C = 1293\n",
    "icon_touch_variant_D = 1293\n",
    "\n",
    "open_store_baseline  = 483\n",
    "open_store_variant_A = 471\n",
    "open_store_variant_B = 471\n",
    "open_store_variant_C = 471\n",
    "open_store_variant_D = 471"
   ]
  },
  {
   "cell_type": "markdown",
   "metadata": {},
   "source": [
    "### 2.2. Ініціалізуємо потрібні для роботи функції."
   ]
  },
  {
   "cell_type": "code",
   "execution_count": 60,
   "metadata": {},
   "outputs": [],
   "source": [
    "def ratio(visitors_A, conversions_A):\n",
    "    rate_A = visitors_A / conversions_A\n",
    "    return rate_A"
   ]
  },
  {
   "cell_type": "code",
   "execution_count": 61,
   "metadata": {},
   "outputs": [],
   "source": [
    "def z_score(visitors_A, visitors_B, conversions_A, conversions_B):\n",
    "    \n",
    "    rate_A = ratio(conversions_A, visitors_A)\n",
    "    rate_B = ratio(conversions_B, visitors_B)\n",
    "    \n",
    "    std_A = np.sqrt(rate_A * (1 - rate_A) / visitors_A)\n",
    "    std_B = np.sqrt(rate_B * (1 - rate_B) / visitors_B)\n",
    "    \n",
    "    z_score = abs((rate_B - rate_A) / np.sqrt(std_B**2 + std_A**2))\n",
    "    \n",
    "    return z_score"
   ]
  },
  {
   "cell_type": "code",
   "execution_count": 62,
   "metadata": {},
   "outputs": [],
   "source": [
    "def difference(visitors_A, visitors_B):\n",
    "    difference_A = (visitors_B - visitors_A) / visitors_A\n",
    "    return difference_A"
   ]
  },
  {
   "cell_type": "markdown",
   "metadata": {},
   "source": [
    "### 2.3. Обчислюємо z-score для p-value (двостороння гіпотеза)."
   ]
  },
  {
   "cell_type": "code",
   "execution_count": 65,
   "metadata": {},
   "outputs": [],
   "source": [
    "it_iv_z_score_variant_A = z_score(icon_vis_b, icon_vis_variant_A, icon_touch_b, icon_touch_variant_A)\n",
    "os_it_z_score_variant_A = z_score(icon_vis_b, icon_vis_variant_A, icon_touch_b, icon_touch_variant_A)\n",
    "os_iv_z_score_variant_A = z_score(icon_vis_b, icon_vis_variant_A, icon_touch_b, icon_touch_variant_A)\n",
    "\n",
    "it_iv_z_score_variant_B = z_score(icon_vis_b, icon_vis_variant_B, icon_touch_b, icon_touch_variant_B)\n",
    "os_it_z_score_variant_B = z_score(icon_vis_b, icon_vis_variant_B, icon_touch_b, icon_touch_variant_B)\n",
    "os_iv_z_score_variant_B = z_score(icon_vis_b, icon_vis_variant_B, icon_touch_b, icon_touch_variant_B)\n",
    "\n",
    "it_iv_z_score_variant_C = z_score(icon_vis_b, icon_vis_variant_C, icon_touch_b, icon_touch_variant_C)\n",
    "os_it_z_score_variant_C = z_score(icon_vis_b, icon_vis_variant_C, icon_touch_b, icon_touch_variant_C)\n",
    "os_iv_z_score_variant_C = z_score(icon_vis_b, icon_vis_variant_C, icon_touch_b, icon_touch_variant_C)\n",
    "\n",
    "it_iv_z_score_variant_D = z_score(icon_vis_b, icon_vis_variant_D, icon_touch_b, icon_touch_variant_D)\n",
    "os_it_z_score_variant_D = z_score(icon_vis_b, icon_vis_variant_D, icon_touch_b, icon_touch_variant_D)\n",
    "os_iv_z_score_variant_D = z_score(icon_vis_b, icon_vis_variant_D, icon_touch_b, icon_touch_variant_D)"
   ]
  },
  {
   "cell_type": "markdown",
   "metadata": {},
   "source": [
    "### 2.4. Обчислюємо решту потрібних показників для таблиці."
   ]
  },
  {
   "cell_type": "code",
   "execution_count": 56,
   "metadata": {},
   "outputs": [],
   "source": [
    "it_iv_baseline = ratio(icon_touch_b, icon_vis_b)\n",
    "os_it_baseline = ratio(open_store_b, icon_touch_b)\n",
    "os_iv_baseline = ratio(open_store_b, icon_vis_b)\n",
    "\n",
    "it_iv_variant_A = ratio(icon_touch_variant_A, icon_vis_variant_A)\n",
    "os_it_variant_A = ratio(open_store_variant_A, icon_touch_variant_A)\n",
    "os_iv_variant_A = ratio(open_store_variant_A, icon_vis_variant_A)\n",
    "\n",
    "it_iv_variant_B = ratio(icon_touch_variant_B, icon_vis_variant_B)\n",
    "os_it_variant_B = ratio(open_store_variant_B, icon_touch_variant_B)\n",
    "os_iv_variant_B = ratio(open_store_variant_B, icon_vis_variant_B)\n",
    "\n",
    "it_iv_variant_C = ratio(icon_touch_variant_C, icon_vis_variant_C)\n",
    "os_it_variant_C = ratio(open_store_variant_C, icon_touch_variant_C)\n",
    "os_iv_variant_C = ratio(open_store_variant_C, icon_vis_variant_C)\n",
    "\n",
    "it_iv_variant_D = ratio(icon_touch_variant_D, icon_vis_variant_D)\n",
    "os_it_variant_D = ratio(open_store_variant_D, icon_touch_variant_D)\n",
    "os_iv_variant_D = ratio(open_store_variant_D, icon_vis_variant_D)\n",
    "\n",
    "diff_it_iv = difference(it_iv_baseline, it_iv_variant_A)\n",
    "diff_os_it = difference(os_it_baseline, os_it_variant_A)\n",
    "diff_os_iv = difference(os_iv_baseline, os_iv_variant_A)"
   ]
  },
  {
   "cell_type": "markdown",
   "metadata": {},
   "source": [
    "### 2.4. Виводимо таблицю з обчисленими даними."
   ]
  },
  {
   "cell_type": "code",
   "execution_count": 57,
   "metadata": {},
   "outputs": [
    {
     "data": {
      "text/html": [
       "<div>\n",
       "<style scoped>\n",
       "    .dataframe tbody tr th:only-of-type {\n",
       "        vertical-align: middle;\n",
       "    }\n",
       "\n",
       "    .dataframe tbody tr th {\n",
       "        vertical-align: top;\n",
       "    }\n",
       "\n",
       "    .dataframe thead th {\n",
       "        text-align: right;\n",
       "    }\n",
       "</style>\n",
       "<table border=\"1\" class=\"dataframe\">\n",
       "  <thead>\n",
       "    <tr style=\"text-align: right;\">\n",
       "      <th></th>\n",
       "      <th>icon_vis</th>\n",
       "      <th>icon_touch</th>\n",
       "      <th>open_Store</th>\n",
       "      <th>it/iv, %</th>\n",
       "      <th>os/it, %</th>\n",
       "      <th>os/iv, %</th>\n",
       "      <th>dif it/iv, %</th>\n",
       "      <th>dif os/it, %</th>\n",
       "      <th>dif os/iv, %</th>\n",
       "      <th>sign it/iv</th>\n",
       "      <th>sign os/it</th>\n",
       "      <th>sign os/iv</th>\n",
       "    </tr>\n",
       "  </thead>\n",
       "  <tbody>\n",
       "    <tr>\n",
       "      <th>Baseline</th>\n",
       "      <td>3301</td>\n",
       "      <td>1279</td>\n",
       "      <td>483</td>\n",
       "      <td>38.75</td>\n",
       "      <td>37.76</td>\n",
       "      <td>14.63</td>\n",
       "      <td>--------</td>\n",
       "      <td>--------</td>\n",
       "      <td>--------</td>\n",
       "      <td>--------</td>\n",
       "      <td>--------</td>\n",
       "      <td>--------</td>\n",
       "    </tr>\n",
       "    <tr>\n",
       "      <th>Variant A</th>\n",
       "      <td>3325</td>\n",
       "      <td>1293</td>\n",
       "      <td>471</td>\n",
       "      <td>38.89</td>\n",
       "      <td>36.43</td>\n",
       "      <td>14.17</td>\n",
       "      <td>0.003649</td>\n",
       "      <td>-0.0354032</td>\n",
       "      <td>-0.0318834</td>\n",
       "      <td>0.453003</td>\n",
       "      <td>0.453003</td>\n",
       "      <td>0.453003</td>\n",
       "    </tr>\n",
       "  </tbody>\n",
       "</table>\n",
       "</div>"
      ],
      "text/plain": [
       "           icon_vis  icon_touch  open_Store  it/iv, %  os/it, %  os/iv, %  \\\n",
       "Baseline       3301        1279         483     38.75     37.76     14.63   \n",
       "Variant A      3325        1293         471     38.89     36.43     14.17   \n",
       "\n",
       "          dif it/iv, % dif os/it, % dif os/iv, % sign it/iv sign os/it  \\\n",
       "Baseline      --------     --------     --------   --------   --------   \n",
       "Variant A     0.003649   -0.0354032   -0.0318834   0.453003   0.453003   \n",
       "\n",
       "          sign os/iv  \n",
       "Baseline    --------  \n",
       "Variant A   0.453003  "
      ]
     },
     "execution_count": 57,
     "metadata": {},
     "output_type": "execute_result"
    }
   ],
   "source": [
    "df_icon_content = {\n",
    "             'icon_vis': [icon_vis_baseline, icon_vis_variant_A],\n",
    "             'icon_touch': [icon_touch_baseline, icon_touch_variant_A],\n",
    "             'open_Store': [open_store_baseline, open_store_variant_A],\n",
    "             'it/iv, %': [round((it_iv_baseline * 100), 2), round((it_iv_variant_A * 100), 2)],\n",
    "             'os/it, %': [round((os_it_baseline * 100), 2), round((os_it_variant_A * 100), 2)], \n",
    "             'os/iv, %': [round((os_iv_baseline * 100), 2), round((os_iv_variant_A * 100), 2)],\n",
    "             'dif it/iv, %': ['--------', diff_it_iv],  \n",
    "             'dif os/it, %': ['--------', diff_os_it],\n",
    "             'dif os/iv, %': ['--------', diff_os_iv],\n",
    "             'sign it/iv': ['--------', norm().sf(it_iv_z_score_variant_A)],\n",
    "             'sign os/it': ['--------', norm().sf(os_it_z_score_variant_A)],  \n",
    "             'sign os/iv': ['--------', norm().sf(os_iv_z_score_variant_A)]\n",
    "}\n",
    "\n",
    "df_icon = pd.DataFrame(df_icon_content, index = ['Baseline', 'Variant A'])\n",
    "df_icon"
   ]
  },
  {
   "cell_type": "code",
   "execution_count": 142,
   "metadata": {},
   "outputs": [
    {
     "name": "stdout",
     "output_type": "stream",
     "text": [
      "Variant      icon_vis    icon_touch    open_Store    it/iv, %    os/it, %    os/iv, %\n",
      "---------  ----------  ------------  ------------  ----------  ----------  ----------\n",
      "Baseline         3301          1279           483       38.75       37.76       14.63\n",
      "Variant A        3325          1293           471       38.89       36.43       14.17\n"
     ]
    }
   ],
   "source": [
    "# перша частина таблиці\n",
    "table_icon_1_1 = [['Variant', 'icon_vis', 'icon_touch', 'open_Store', 'it/iv, %', 'os/it, %', 'os/iv, %'], \n",
    "         \n",
    "        ['Baseline', icon_vis_b, icon_touch_b, open_store_b, round((it_iv_b * 100), 2), \n",
    "          round((os_it_b * 100), 2), round((os_iv_b * 100), 2)],\n",
    "        \n",
    "        ['Variant A', icon_vis_v_A, icon_touch_v_A, open_store_v_A, round((it_iv_v_A * 100), 2), \n",
    "         round((os_it_v_A * 100), 2), round((os_iv_v_A * 100), 2)]]\n",
    "\n",
    "# друга частина таблиці\n",
    "table_icon_1_2 = [['Variant', 'dif it/iv, %', 'dif os/it, %', 'dif os/iv, %', 'sign it/iv', 'sign os/it', 'sign os/iv'], \n",
    "         \n",
    "        ['Baseline'],\n",
    "        \n",
    "        ['Variant A', round((dif_it_iv * 100), 2), round((dif_os_it * 100), 2), round((dif_os_iv * 100), 2), \n",
    "         norm().sf(it_iv_z_score), norm().sf(os_it_z_score), norm().sf(os_iv_z_score)]]\n",
    "\n",
    "# виведення першої частини таблиці\n",
    "print(tabulate(table_icon_1_1, headers='firstrow'))"
   ]
  },
  {
   "cell_type": "code",
   "execution_count": 143,
   "metadata": {},
   "outputs": [
    {
     "name": "stdout",
     "output_type": "stream",
     "text": [
      "Variant      dif it/iv, %    dif os/it, %    dif os/iv, %    sign it/iv    sign os/it    sign os/iv\n",
      "---------  --------------  --------------  --------------  ------------  ------------  ------------\n",
      "Baseline\n",
      "Variant A            0.36           -3.54           -3.19      0.453003      0.241383      0.294314\n"
     ]
    }
   ],
   "source": [
    "# виведення другої частини таблиці\n",
    "print(tabulate(table_icon_1_2, headers='firstrow'))"
   ]
  },
  {
   "cell_type": "markdown",
   "metadata": {},
   "source": [
    "### 2.5. Отримуємо дані про статистичну значимість (двостороння гіпотеза). "
   ]
  },
  {
   "cell_type": "code",
   "execution_count": 144,
   "metadata": {},
   "outputs": [
    {
     "name": "stdout",
     "output_type": "stream",
     "text": [
      "Статистичної значимості ніде немає.\n"
     ]
    }
   ],
   "source": [
    "if norm().sf(it_iv_z_score) < 0.025 or norm().sf(it_iv_z_score) == 0.025:\n",
    "    print('Є статистична значимість it/iv.')\n",
    "    \n",
    "if norm().sf(os_it_z_score) < 0.025 or norm().sf(os_it_z_score) == 0.025:\n",
    "    print('Є статистична значимість os/it.')\n",
    "    \n",
    "if norm().sf(os_iv_z_score) < 0.025 or norm().sf(os_iv_z_score) == 0.025:\n",
    "    print('Є статистична значимість os/iv.')   \n",
    "\n",
    "if norm().sf(it_iv_z_score) > 0.025 and norm().sf(os_it_z_score) > 0.025 and norm().sf(os_iv_z_score) > 0.025:\n",
    "    print('Статистичної значимості ніде немає.')"
   ]
  },
  {
   "cell_type": "markdown",
   "metadata": {},
   "source": [
    "## 3. Обчислення стосовно банеру."
   ]
  },
  {
   "cell_type": "markdown",
   "metadata": {},
   "source": [
    "### 3.1. Вводимо необхідні дані."
   ]
  },
  {
   "cell_type": "code",
   "execution_count": 155,
   "metadata": {},
   "outputs": [],
   "source": [
    "# A — Baseline, B — тестова\n",
    "banner_show_b = 1279\n",
    "banner_show_v_A = 1293\n",
    "\n",
    "banner_touch_b = 927\n",
    "banner_touch_v_A = 924\n",
    "\n",
    "open_store_b = 483\n",
    "open_store_v_A = 471"
   ]
  },
  {
   "cell_type": "markdown",
   "metadata": {},
   "source": [
    "### 3.2. Обчислюємо z-score для p-value (двостороння гіпотеза)."
   ]
  },
  {
   "cell_type": "code",
   "execution_count": 156,
   "metadata": {},
   "outputs": [],
   "source": [
    "# bt_bs_z_score\n",
    "\n",
    "bt_bs_rate_b = banner_touch_b / banner_show_b\n",
    "bt_bs_rate_v_A = banner_touch_v_A / banner_show_v_A\n",
    "\n",
    "bt_bs_std_b = np.sqrt(bt_bs_rate_b * (1 - bt_bs_rate_b) / banner_show_b)\n",
    "bt_bs_std_v_A = np.sqrt(bt_bs_rate_v_A * (1 - bt_bs_rate_v_A) / banner_show_v_A)\n",
    "\n",
    "bt_bs_z_score = abs((bt_bs_rate_v_A - bt_bs_rate_b) / np.sqrt(bt_bs_std_b**2 + bt_bs_std_v_A**2))\n",
    "\n",
    "# os_it_z_score\n",
    "\n",
    "os_bs_rate_b = open_store_b / banner_show_b\n",
    "os_bs_rate_v_A = open_store_v_A / banner_show_v_A\n",
    "\n",
    "os_bs_std_b = np.sqrt(os_bs_rate_b * (1 - os_bs_rate_b) / banner_show_b)\n",
    "os_bs_std_v_A = np.sqrt(os_bs_rate_v_A * (1 - os_bs_rate_v_A) / banner_show_v_A)\n",
    "\n",
    "os_bs_z_score = abs((os_bs_rate_v_A - os_bs_rate_b) / np.sqrt(os_bs_std_b**2 + os_bs_std_v_A**2))"
   ]
  },
  {
   "cell_type": "markdown",
   "metadata": {},
   "source": [
    "### 3.3. Обчислюємо решту потрібних показників для таблиці."
   ]
  },
  {
   "cell_type": "code",
   "execution_count": 157,
   "metadata": {},
   "outputs": [],
   "source": [
    "bt_bs_b = banner_touch_b / banner_show_b\n",
    "bt_bs_v_A = banner_touch_v_A / banner_show_v_A\n",
    "\n",
    "os_bs_b = open_store_b / banner_show_b\n",
    "os_bs_v_A = open_store_v_A / banner_show_v_A\n",
    "\n",
    "dif_bt_bs = (bt_bs_v_A - bt_bs_b) / bt_bs_b\n",
    "dif_os_bs = (os_bs_v_A - os_bs_b) / os_bs_b"
   ]
  },
  {
   "cell_type": "markdown",
   "metadata": {},
   "source": [
    "### 3.4. Виводимо таблиці з обчисленими даними."
   ]
  },
  {
   "cell_type": "code",
   "execution_count": 158,
   "metadata": {},
   "outputs": [
    {
     "name": "stdout",
     "output_type": "stream",
     "text": [
      "Var          ban_s    ban_t    open_S    bt/bs, %    os/bs, %\n",
      "---------  -------  -------  --------  ----------  ----------\n",
      "Baseline      1279      927       483       72.48       37.76\n",
      "Variant A     1293      924       471       71.46       36.43\n"
     ]
    }
   ],
   "source": [
    "# перша частина таблиці\n",
    "table_banner_2_1 = [['Var', 'ban_s', 'ban_t', 'open_S', \n",
    "                   'bt/bs, %', 'os/bs, %', 'dif bt/bs, %', 'dif os/bs, %'], \n",
    "         \n",
    "         ['Baseline', banner_show_b, banner_touch_b, open_store_b, round((bt_bs_b * 100), 2), \n",
    "          round((os_bs_b * 100), 2)],\n",
    "        \n",
    "         ['Variant A', banner_show_v_A, banner_touch_v_A, open_store_v_A, round((bt_bs_v_A * 100), 2), \n",
    "          round((os_bs_v_A * 100), 2)]]\n",
    "\n",
    "# Друга частина таблиці\n",
    "table_banner_2_2 = [['Var', 'dif bt/bs, %', 'dif os/bs, %', 'sign bt/bs', 'sign os/bs'], \n",
    "         \n",
    "         ['Baseline'],\n",
    "        \n",
    "         ['Variant A', round((dif_bt_bs * 100), 2), round((dif_os_bs * 100), 2),\n",
    "         norm().sf(bt_bs_z_score), norm().sf(os_bs_z_score)]]\n",
    "\n",
    "# виведення першої частини таблиці\n",
    "print(tabulate(table_banner_2_1, headers='firstrow'))"
   ]
  },
  {
   "cell_type": "code",
   "execution_count": 159,
   "metadata": {},
   "outputs": [
    {
     "name": "stdout",
     "output_type": "stream",
     "text": [
      "Var          dif bt/bs, %    dif os/bs, %    sign bt/bs    sign os/bs\n",
      "---------  --------------  --------------  ------------  ------------\n",
      "Baseline\n",
      "Variant A            -1.4           -3.54      0.282953      0.241383\n"
     ]
    }
   ],
   "source": [
    "# виведення другої частини таблиці\n",
    "print(tabulate(table_banner_2_2, headers='firstrow'))"
   ]
  },
  {
   "cell_type": "markdown",
   "metadata": {},
   "source": [
    "### 3.5. Отримуємо дані про статистичну значимість (двостороння гіпотеза). "
   ]
  },
  {
   "cell_type": "code",
   "execution_count": 160,
   "metadata": {},
   "outputs": [
    {
     "name": "stdout",
     "output_type": "stream",
     "text": [
      "Статистичної значимості ніде немає.\n"
     ]
    }
   ],
   "source": [
    "if norm().sf(bt_bs_z_score) < 0.025 or norm().sf(bt_bs_z_score) == 0.025:\n",
    "    print('Є статистична значимість bt_bs.')\n",
    "    \n",
    "if norm().sf(os_bs_z_score) < 0.025 or norm().sf(os_bs_z_score) == 0.025:\n",
    "    print('Є статистична значимість os_bs.')   \n",
    "\n",
    "if norm().sf(bt_bs_z_score) > 0.025 and norm().sf(os_bs_z_score) > 0.025:\n",
    "    print('Статистичної значимості ніде немає.')"
   ]
  },
  {
   "cell_type": "code",
   "execution_count": null,
   "metadata": {},
   "outputs": [],
   "source": []
  }
 ],
 "metadata": {
  "kernelspec": {
   "display_name": "Python 3",
   "language": "python",
   "name": "python3"
  },
  "language_info": {
   "codemirror_mode": {
    "name": "ipython",
    "version": 3
   },
   "file_extension": ".py",
   "mimetype": "text/x-python",
   "name": "python",
   "nbconvert_exporter": "python",
   "pygments_lexer": "ipython3",
   "version": "3.7.6"
  }
 },
 "nbformat": 4,
 "nbformat_minor": 5
}
