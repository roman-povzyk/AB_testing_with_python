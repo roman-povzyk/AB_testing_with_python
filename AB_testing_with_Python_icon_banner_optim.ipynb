{
 "cells": [
  {
   "cell_type": "markdown",
   "metadata": {},
   "source": [
    "# Обчислення A/B-тесту з одним варіантом"
   ]
  },
  {
   "cell_type": "markdown",
   "metadata": {},
   "source": [
    "## 1. Встановлюємо та імпортуємо необхідні бібліотеки"
   ]
  },
  {
   "cell_type": "code",
   "execution_count": 1,
   "metadata": {},
   "outputs": [
    {
     "name": "stdout",
     "output_type": "stream",
     "text": [
      "Collecting tabulate\n",
      "  Downloading tabulate-0.8.9-py3-none-any.whl (25 kB)\n",
      "Installing collected packages: tabulate\n",
      "Successfully installed tabulate-0.8.9\n",
      "Note: you may need to restart the kernel to use updated packages.\n"
     ]
    },
    {
     "name": "stderr",
     "output_type": "stream",
     "text": [
      "WARNING: Ignoring invalid distribution -umpy (c:\\users\\user\\anaconda4\\lib\\site-packages)\n",
      "WARNING: Ignoring invalid distribution -umpy (c:\\users\\user\\anaconda4\\lib\\site-packages)\n",
      "WARNING: Ignoring invalid distribution -umpy (c:\\users\\user\\anaconda4\\lib\\site-packages)\n",
      "WARNING: Ignoring invalid distribution -umpy (c:\\users\\user\\anaconda4\\lib\\site-packages)\n",
      "WARNING: Ignoring invalid distribution -umpy (c:\\users\\user\\anaconda4\\lib\\site-packages)\n",
      "WARNING: Ignoring invalid distribution -umpy (c:\\users\\user\\anaconda4\\lib\\site-packages)\n",
      "WARNING: Ignoring invalid distribution -umpy (c:\\users\\user\\anaconda4\\lib\\site-packages)\n",
      "WARNING: You are using pip version 21.1.3; however, version 21.2.4 is available.\n",
      "You should consider upgrading via the 'C:\\Users\\User\\anaconda4\\python.exe -m pip install --upgrade pip' command.\n"
     ]
    }
   ],
   "source": [
    "pip install tabulate"
   ]
  },
  {
   "cell_type": "code",
   "execution_count": 2,
   "metadata": {},
   "outputs": [
    {
     "name": "stdout",
     "output_type": "stream",
     "text": [
      "Requirement already satisfied: scipy in c:\\users\\user\\anaconda4\\lib\\site-packages (1.4.1)\n",
      "Requirement already satisfied: numpy>=1.13.3 in c:\\users\\user\\anaconda4\\lib\\site-packages (from scipy) (1.19.5)\n",
      "Note: you may need to restart the kernel to use updated packages.\n"
     ]
    },
    {
     "name": "stderr",
     "output_type": "stream",
     "text": [
      "WARNING: Ignoring invalid distribution -umpy (c:\\users\\user\\anaconda4\\lib\\site-packages)\n",
      "WARNING: Ignoring invalid distribution -umpy (c:\\users\\user\\anaconda4\\lib\\site-packages)\n",
      "WARNING: Ignoring invalid distribution -umpy (c:\\users\\user\\anaconda4\\lib\\site-packages)\n",
      "WARNING: Ignoring invalid distribution -umpy (c:\\users\\user\\anaconda4\\lib\\site-packages)\n",
      "WARNING: Ignoring invalid distribution -umpy (c:\\users\\user\\anaconda4\\lib\\site-packages)\n",
      "WARNING: Ignoring invalid distribution -umpy (c:\\users\\user\\anaconda4\\lib\\site-packages)\n",
      "WARNING: You are using pip version 21.1.3; however, version 21.2.4 is available.\n",
      "You should consider upgrading via the 'C:\\Users\\User\\anaconda4\\python.exe -m pip install --upgrade pip' command.\n"
     ]
    }
   ],
   "source": [
    "pip install scipy"
   ]
  },
  {
   "cell_type": "code",
   "execution_count": 1,
   "metadata": {},
   "outputs": [],
   "source": [
    "import matplotlib.pyplot as plt\n",
    "import numpy as np\n",
    "import pandas as pd\n",
    "from scipy.stats import binom, norm\n",
    "from tabulate import tabulate"
   ]
  },
  {
   "cell_type": "markdown",
   "metadata": {},
   "source": [
    "## 2. Обчислення стосовно іконки."
   ]
  },
  {
   "cell_type": "markdown",
   "metadata": {},
   "source": [
    "### 2.1. Вводимо необхідні дані."
   ]
  },
  {
   "cell_type": "code",
   "execution_count": 25,
   "metadata": {},
   "outputs": [],
   "source": [
    "# A — Baseline, B, C, D — тестові\n",
    "\n",
    "# icon_vis — побачило іконку\n",
    "icon_vis_baseline = 56810\n",
    "icon_vis_variant_A = 56782\n",
    "icon_vis_variant_B = 56493\n",
    "icon_vis_variant_C = 56878\n",
    "icon_vis_variant_D = 56878\n",
    "\n",
    "# натисло на іконку\n",
    "icon_touch_baseline = 5452\n",
    "icon_touch_variant_A = 5525\n",
    "icon_touch_variant_B = 5417\n",
    "icon_touch_variant_C = 5472\n",
    "icon_touch_variant_D = 5472\n",
    "\n",
    "# відкрило магазин\n",
    "open_store_baseline  = 979\n",
    "open_store_variant_A = 1212\n",
    "open_store_variant_B = 954\n",
    "open_store_variant_C = 1032\n",
    "open_store_variant_D = 471"
   ]
  },
  {
   "cell_type": "markdown",
   "metadata": {},
   "source": [
    "### 2.2. Ініціалізуємо потрібні для роботи функції."
   ]
  },
  {
   "cell_type": "code",
   "execution_count": 36,
   "metadata": {},
   "outputs": [],
   "source": [
    "# конверсія\n",
    "def ratio(visitors_A, conversions_A):\n",
    "    rate_A = round((visitors_A / conversions_A) * 100, 2)\n",
    "    return rate_A"
   ]
  },
  {
   "cell_type": "code",
   "execution_count": 38,
   "metadata": {},
   "outputs": [],
   "source": [
    "# обчислення z-score\n",
    "def z_score(visitors_A, visitors_B, conversions_A, conversions_B):\n",
    "    \n",
    "    rate_A = conversions_A / visitors_A\n",
    "    rate_B = conversions_B / visitors_B\n",
    "    \n",
    "    std_A = np.sqrt(rate_A * (1 - rate_A) / visitors_A)\n",
    "    std_B = np.sqrt(rate_B * (1 - rate_B) / visitors_B)\n",
    "    \n",
    "    z_score = abs((rate_B - rate_A) / np.sqrt(std_B**2 + std_A**2))\n",
    "    \n",
    "    return z_score"
   ]
  },
  {
   "cell_type": "code",
   "execution_count": 39,
   "metadata": {},
   "outputs": [],
   "source": [
    "# обчислення різниці\n",
    "def difference(visitors_A, visitors_B):\n",
    "    difference_A = round((((visitors_B - visitors_A) / visitors_A) *100), 2)\n",
    "    return difference_A"
   ]
  },
  {
   "cell_type": "code",
   "execution_count": 40,
   "metadata": {},
   "outputs": [],
   "source": [
    "# визначення наявності статзначимості\n",
    "def signif(z_score_1, z_score_2, z_score_3):\n",
    "    \n",
    "    if norm().sf(z_score_1) <= 0.025:\n",
    "        print('Є статистична значимість it/iv.')\n",
    "    \n",
    "    if norm().sf(z_score_2) <= 0.025:\n",
    "        print('Є статистична значимість os/it.')\n",
    "\n",
    "    if norm().sf(z_score_3) <= 0.025:\n",
    "        print('Є статистична значимість os/iv.')   \n",
    "\n",
    "    if norm().sf(z_score_1) > 0.025 and norm().sf(z_score_2) > 0.025 and norm().sf(z_score_3) > 0.025:\n",
    "        print('Статистичної значимості ніде немає.')\n",
    "        \n",
    "    return 'End'"
   ]
  },
  {
   "cell_type": "markdown",
   "metadata": {},
   "source": [
    "### 2.3. Обчислюємо z-score для p-value (двостороння гіпотеза)."
   ]
  },
  {
   "cell_type": "code",
   "execution_count": 41,
   "metadata": {},
   "outputs": [],
   "source": [
    "# для варіанта A\n",
    "it_iv_z_score_variant_A = z_score(icon_vis_baseline, icon_vis_variant_A, icon_touch_baseline, icon_touch_variant_A)\n",
    "os_it_z_score_variant_A = z_score(icon_vis_baseline, icon_vis_variant_A, icon_touch_baseline, icon_touch_variant_A)\n",
    "os_iv_z_score_variant_A = z_score(icon_vis_baseline, icon_vis_variant_A, icon_touch_baseline, icon_touch_variant_A)\n",
    "\n",
    "# для варіанта B\n",
    "it_iv_z_score_variant_B = z_score(icon_vis_baseline, icon_vis_variant_B, icon_touch_baseline, icon_touch_variant_B)\n",
    "os_it_z_score_variant_B = z_score(icon_vis_baseline, icon_vis_variant_B, icon_touch_baseline, icon_touch_variant_B)\n",
    "os_iv_z_score_variant_B = z_score(icon_vis_baseline, icon_vis_variant_B, icon_touch_baseline, icon_touch_variant_B)\n",
    "\n",
    "# для варіанта C\n",
    "it_iv_z_score_variant_C = z_score(icon_vis_baseline, icon_vis_variant_C, icon_touch_baseline, icon_touch_variant_C)\n",
    "os_it_z_score_variant_C = z_score(icon_vis_baseline, icon_vis_variant_C, icon_touch_baseline, icon_touch_variant_C)\n",
    "os_iv_z_score_variant_C = z_score(icon_vis_baseline, icon_vis_variant_C, icon_touch_baseline, icon_touch_variant_C)\n",
    "\n",
    "# для варіанта D\n",
    "it_iv_z_score_variant_D = z_score(icon_vis_baseline, icon_vis_variant_D, icon_touch_baseline, icon_touch_variant_D)\n",
    "os_it_z_score_variant_D = z_score(icon_vis_baseline, icon_vis_variant_D, icon_touch_baseline, icon_touch_variant_D)\n",
    "os_iv_z_score_variant_D = z_score(icon_vis_baseline, icon_vis_variant_D, icon_touch_baseline, icon_touch_variant_D)"
   ]
  },
  {
   "cell_type": "markdown",
   "metadata": {},
   "source": [
    "### 2.4. Обчислюємо решту потрібних показників для таблиці."
   ]
  },
  {
   "cell_type": "code",
   "execution_count": 42,
   "metadata": {},
   "outputs": [],
   "source": [
    "# конверсії \n",
    "it_iv_baseline = ratio(icon_touch_baseline, icon_vis_baseline)\n",
    "os_it_baseline = ratio(open_store_baseline, icon_touch_baseline)\n",
    "os_iv_baseline = ratio(open_store_baseline, icon_vis_baseline)\n",
    "\n",
    "it_iv_variant_A = ratio(icon_touch_variant_A, icon_vis_variant_A)\n",
    "os_it_variant_A = ratio(open_store_variant_A, icon_touch_variant_A)\n",
    "os_iv_variant_A = ratio(open_store_variant_A, icon_vis_variant_A)\n",
    "\n",
    "it_iv_variant_B = ratio(icon_touch_variant_B, icon_vis_variant_B)\n",
    "os_it_variant_B = ratio(open_store_variant_B, icon_touch_variant_B)\n",
    "os_iv_variant_B = ratio(open_store_variant_B, icon_vis_variant_B)\n",
    "\n",
    "it_iv_variant_C = ratio(icon_touch_variant_C, icon_vis_variant_C)\n",
    "os_it_variant_C = ratio(open_store_variant_C, icon_touch_variant_C)\n",
    "os_iv_variant_C = ratio(open_store_variant_C, icon_vis_variant_C)\n",
    "\n",
    "it_iv_variant_D = ratio(icon_touch_variant_D, icon_vis_variant_D)\n",
    "os_it_variant_D = ratio(open_store_variant_D, icon_touch_variant_D)\n",
    "os_iv_variant_D = ratio(open_store_variant_D, icon_vis_variant_D)\n",
    "\n",
    "# різниці\n",
    "diff_it_iv_variant_A = difference(it_iv_baseline, it_iv_variant_A)\n",
    "diff_os_it_variant_A = difference(os_it_baseline, os_it_variant_A)\n",
    "diff_os_iv_variant_A = difference(os_iv_baseline, os_iv_variant_A)\n",
    "\n",
    "diff_it_iv_variant_B = difference(it_iv_baseline, it_iv_variant_B)\n",
    "diff_os_it_variant_B = difference(os_it_baseline, os_it_variant_B)\n",
    "diff_os_iv_variant_B = difference(os_iv_baseline, os_iv_variant_B)\n",
    "\n",
    "diff_it_iv_variant_C = difference(it_iv_baseline, it_iv_variant_C)\n",
    "diff_os_it_variant_C = difference(os_it_baseline, os_it_variant_C)\n",
    "diff_os_iv_variant_C = difference(os_iv_baseline, os_iv_variant_C)\n",
    "\n",
    "diff_it_iv_variant_D = difference(it_iv_baseline, it_iv_variant_D)\n",
    "diff_os_it_variant_D = difference(os_it_baseline, os_it_variant_D)\n",
    "diff_os_iv_variant_D = difference(os_iv_baseline, os_iv_variant_D)"
   ]
  },
  {
   "cell_type": "markdown",
   "metadata": {},
   "source": [
    "### 2.4. Виводимо таблицю з обчисленими даними."
   ]
  },
  {
   "cell_type": "code",
   "execution_count": 43,
   "metadata": {},
   "outputs": [
    {
     "data": {
      "text/html": [
       "<div>\n",
       "<style scoped>\n",
       "    .dataframe tbody tr th:only-of-type {\n",
       "        vertical-align: middle;\n",
       "    }\n",
       "\n",
       "    .dataframe tbody tr th {\n",
       "        vertical-align: top;\n",
       "    }\n",
       "\n",
       "    .dataframe thead th {\n",
       "        text-align: right;\n",
       "    }\n",
       "</style>\n",
       "<table border=\"1\" class=\"dataframe\">\n",
       "  <thead>\n",
       "    <tr style=\"text-align: right;\">\n",
       "      <th></th>\n",
       "      <th>icon_vis</th>\n",
       "      <th>icon_touch</th>\n",
       "      <th>open_Store</th>\n",
       "      <th>it/iv, %</th>\n",
       "      <th>os/it, %</th>\n",
       "      <th>os/iv, %</th>\n",
       "      <th>dif it/iv, %</th>\n",
       "      <th>dif os/it, %</th>\n",
       "      <th>dif os/iv, %</th>\n",
       "      <th>sign it/iv</th>\n",
       "      <th>sign os/it</th>\n",
       "      <th>sign os/iv</th>\n",
       "    </tr>\n",
       "  </thead>\n",
       "  <tbody>\n",
       "    <tr>\n",
       "      <th>Baseline</th>\n",
       "      <td>56810</td>\n",
       "      <td>5452</td>\n",
       "      <td>979</td>\n",
       "      <td>960.0</td>\n",
       "      <td>1796.0</td>\n",
       "      <td>172.0</td>\n",
       "      <td>--------</td>\n",
       "      <td>--------</td>\n",
       "      <td>--------</td>\n",
       "      <td>--------</td>\n",
       "      <td>--------</td>\n",
       "      <td>--------</td>\n",
       "    </tr>\n",
       "    <tr>\n",
       "      <th>Variant A</th>\n",
       "      <td>56782</td>\n",
       "      <td>5525</td>\n",
       "      <td>1212</td>\n",
       "      <td>973.0</td>\n",
       "      <td>2194.0</td>\n",
       "      <td>213.0</td>\n",
       "      <td>1.35</td>\n",
       "      <td>22.16</td>\n",
       "      <td>23.84</td>\n",
       "      <td>0.223553</td>\n",
       "      <td>0.223553</td>\n",
       "      <td>0.223553</td>\n",
       "    </tr>\n",
       "    <tr>\n",
       "      <th>Variant B</th>\n",
       "      <td>56493</td>\n",
       "      <td>5417</td>\n",
       "      <td>954</td>\n",
       "      <td>959.0</td>\n",
       "      <td>1761.0</td>\n",
       "      <td>169.0</td>\n",
       "      <td>-0.1</td>\n",
       "      <td>-1.95</td>\n",
       "      <td>-1.74</td>\n",
       "      <td>0.481531</td>\n",
       "      <td>0.481531</td>\n",
       "      <td>0.481531</td>\n",
       "    </tr>\n",
       "    <tr>\n",
       "      <th>Variant C</th>\n",
       "      <td>56878</td>\n",
       "      <td>5472</td>\n",
       "      <td>1032</td>\n",
       "      <td>962.0</td>\n",
       "      <td>1886.0</td>\n",
       "      <td>181.0</td>\n",
       "      <td>0.21</td>\n",
       "      <td>5.01</td>\n",
       "      <td>5.23</td>\n",
       "      <td>0.446102</td>\n",
       "      <td>0.446102</td>\n",
       "      <td>0.446102</td>\n",
       "    </tr>\n",
       "    <tr>\n",
       "      <th>Variant D</th>\n",
       "      <td>56878</td>\n",
       "      <td>5472</td>\n",
       "      <td>471</td>\n",
       "      <td>962.0</td>\n",
       "      <td>861.0</td>\n",
       "      <td>83.0</td>\n",
       "      <td>0.21</td>\n",
       "      <td>-52.06</td>\n",
       "      <td>-51.74</td>\n",
       "      <td>0.446102</td>\n",
       "      <td>0.446102</td>\n",
       "      <td>0.446102</td>\n",
       "    </tr>\n",
       "  </tbody>\n",
       "</table>\n",
       "</div>"
      ],
      "text/plain": [
       "           icon_vis  icon_touch  open_Store  it/iv, %  os/it, %  os/iv, %  \\\n",
       "Baseline      56810        5452         979     960.0    1796.0     172.0   \n",
       "Variant A     56782        5525        1212     973.0    2194.0     213.0   \n",
       "Variant B     56493        5417         954     959.0    1761.0     169.0   \n",
       "Variant C     56878        5472        1032     962.0    1886.0     181.0   \n",
       "Variant D     56878        5472         471     962.0     861.0      83.0   \n",
       "\n",
       "          dif it/iv, % dif os/it, % dif os/iv, % sign it/iv sign os/it  \\\n",
       "Baseline      --------     --------     --------   --------   --------   \n",
       "Variant A         1.35        22.16        23.84   0.223553   0.223553   \n",
       "Variant B         -0.1        -1.95        -1.74   0.481531   0.481531   \n",
       "Variant C         0.21         5.01         5.23   0.446102   0.446102   \n",
       "Variant D         0.21       -52.06       -51.74   0.446102   0.446102   \n",
       "\n",
       "          sign os/iv  \n",
       "Baseline    --------  \n",
       "Variant A   0.223553  \n",
       "Variant B   0.481531  \n",
       "Variant C   0.446102  \n",
       "Variant D   0.446102  "
      ]
     },
     "execution_count": 43,
     "metadata": {},
     "output_type": "execute_result"
    }
   ],
   "source": [
    "df_icon_content = {\n",
    "             'icon_vis': [icon_vis_baseline, icon_vis_variant_A, icon_vis_variant_B, icon_vis_variant_C, icon_vis_variant_D],\n",
    "             'icon_touch': [icon_touch_baseline, icon_touch_variant_A, icon_touch_variant_B, \n",
    "                            icon_touch_variant_C, icon_touch_variant_D],\n",
    "             'open_Store': [open_store_baseline, open_store_variant_A, open_store_variant_B, \n",
    "                            open_store_variant_C, open_store_variant_D],\n",
    "             'it/iv, %': [round((it_iv_baseline * 100), 2), round((it_iv_variant_A * 100), 2), round((it_iv_variant_B * 100), 2), \n",
    "                         round((it_iv_variant_C * 100), 2), round((it_iv_variant_D * 100), 2)],\n",
    "             'os/it, %': [round((os_it_baseline * 100), 2), round((os_it_variant_A * 100), 2), round((os_it_variant_B * 100), 2),\n",
    "                         round((os_it_variant_C * 100), 2), round((os_it_variant_D * 100), 2)], \n",
    "             'os/iv, %': [round((os_iv_baseline * 100), 2), round((os_iv_variant_A * 100), 2), round((os_iv_variant_B * 100), 2),\n",
    "                         round((os_iv_variant_C * 100), 2), round((os_iv_variant_D * 100), 2)],\n",
    "             'dif it/iv, %': ['--------', diff_it_iv_variant_A, diff_it_iv_variant_B, \n",
    "                              diff_it_iv_variant_C, diff_it_iv_variant_D],  \n",
    "             'dif os/it, %': ['--------', diff_os_it_variant_A, diff_os_it_variant_B, \n",
    "                              diff_os_it_variant_C, diff_os_it_variant_D],\n",
    "             'dif os/iv, %': ['--------', diff_os_iv_variant_A, diff_os_iv_variant_B, \n",
    "                              diff_os_iv_variant_C, diff_os_iv_variant_D],\n",
    "             'sign it/iv': ['--------', norm().sf(it_iv_z_score_variant_A), norm().sf(it_iv_z_score_variant_B), \n",
    "                            norm().sf(it_iv_z_score_variant_C), norm().sf(it_iv_z_score_variant_D)],\n",
    "             'sign os/it': ['--------', norm().sf(os_it_z_score_variant_A), norm().sf(os_it_z_score_variant_B), \n",
    "                           norm().sf(os_it_z_score_variant_C), norm().sf(os_it_z_score_variant_D)],  \n",
    "             'sign os/iv': ['--------', norm().sf(os_iv_z_score_variant_A), norm().sf(os_iv_z_score_variant_B),\n",
    "                           norm().sf(os_iv_z_score_variant_C), norm().sf(os_iv_z_score_variant_D)]\n",
    "}\n",
    "\n",
    "df_icon = pd.DataFrame(df_icon_content, index = ['Baseline', 'Variant A', 'Variant B', 'Variant C', 'Variant D'])\n",
    "df_icon"
   ]
  },
  {
   "cell_type": "markdown",
   "metadata": {},
   "source": [
    "### 2.5. Отримуємо дані про статистичну значимість (двостороння гіпотеза). "
   ]
  },
  {
   "cell_type": "code",
   "execution_count": 33,
   "metadata": {},
   "outputs": [
    {
     "name": "stdout",
     "output_type": "stream",
     "text": [
      "Variant A\n",
      "Статистичної значимості ніде немає.\n",
      "End\n",
      "\n",
      "Variant B\n",
      "Статистичної значимості ніде немає.\n",
      "End\n",
      "\n",
      "Variant C\n",
      "Статистичної значимості ніде немає.\n",
      "End\n",
      "\n",
      "Variant D\n",
      "Статистичної значимості ніде немає.\n",
      "End\n"
     ]
    }
   ],
   "source": [
    "print('Variant A')\n",
    "print(signif(it_iv_z_score_variant_A, os_it_z_score_variant_A, os_iv_z_score_variant_A))\n",
    "print()\n",
    "print('Variant B')\n",
    "print(signif(it_iv_z_score_variant_B, os_it_z_score_variant_B, os_iv_z_score_variant_B))\n",
    "print()\n",
    "print('Variant C')\n",
    "print(signif(it_iv_z_score_variant_C, os_it_z_score_variant_C, os_iv_z_score_variant_C))\n",
    "print()\n",
    "print('Variant D')\n",
    "print(signif(it_iv_z_score_variant_D, os_it_z_score_variant_D, os_iv_z_score_variant_D))"
   ]
  },
  {
   "cell_type": "markdown",
   "metadata": {},
   "source": [
    "## 3. Обчислення стосовно банеру."
   ]
  },
  {
   "cell_type": "markdown",
   "metadata": {},
   "source": [
    "### 3.1. Вводимо необхідні дані."
   ]
  },
  {
   "cell_type": "code",
   "execution_count": 155,
   "metadata": {},
   "outputs": [],
   "source": [
    "# A — Baseline, B — тестова\n",
    "banner_show_b = 1279\n",
    "banner_show_v_A = 1293\n",
    "\n",
    "banner_touch_b = 927\n",
    "banner_touch_v_A = 924\n",
    "\n",
    "open_store_b = 483\n",
    "open_store_v_A = 471"
   ]
  },
  {
   "cell_type": "markdown",
   "metadata": {},
   "source": [
    "### 3.2. Обчислюємо z-score для p-value (двостороння гіпотеза)."
   ]
  },
  {
   "cell_type": "code",
   "execution_count": 156,
   "metadata": {},
   "outputs": [],
   "source": [
    "# bt_bs_z_score\n",
    "\n",
    "bt_bs_rate_b = banner_touch_b / banner_show_b\n",
    "bt_bs_rate_v_A = banner_touch_v_A / banner_show_v_A\n",
    "\n",
    "bt_bs_std_b = np.sqrt(bt_bs_rate_b * (1 - bt_bs_rate_b) / banner_show_b)\n",
    "bt_bs_std_v_A = np.sqrt(bt_bs_rate_v_A * (1 - bt_bs_rate_v_A) / banner_show_v_A)\n",
    "\n",
    "bt_bs_z_score = abs((bt_bs_rate_v_A - bt_bs_rate_b) / np.sqrt(bt_bs_std_b**2 + bt_bs_std_v_A**2))\n",
    "\n",
    "# os_it_z_score\n",
    "\n",
    "os_bs_rate_b = open_store_b / banner_show_b\n",
    "os_bs_rate_v_A = open_store_v_A / banner_show_v_A\n",
    "\n",
    "os_bs_std_b = np.sqrt(os_bs_rate_b * (1 - os_bs_rate_b) / banner_show_b)\n",
    "os_bs_std_v_A = np.sqrt(os_bs_rate_v_A * (1 - os_bs_rate_v_A) / banner_show_v_A)\n",
    "\n",
    "os_bs_z_score = abs((os_bs_rate_v_A - os_bs_rate_b) / np.sqrt(os_bs_std_b**2 + os_bs_std_v_A**2))"
   ]
  },
  {
   "cell_type": "markdown",
   "metadata": {},
   "source": [
    "### 3.3. Обчислюємо решту потрібних показників для таблиці."
   ]
  },
  {
   "cell_type": "code",
   "execution_count": 157,
   "metadata": {},
   "outputs": [],
   "source": [
    "bt_bs_b = banner_touch_b / banner_show_b\n",
    "bt_bs_v_A = banner_touch_v_A / banner_show_v_A\n",
    "\n",
    "os_bs_b = open_store_b / banner_show_b\n",
    "os_bs_v_A = open_store_v_A / banner_show_v_A\n",
    "\n",
    "dif_bt_bs = (bt_bs_v_A - bt_bs_b) / bt_bs_b\n",
    "dif_os_bs = (os_bs_v_A - os_bs_b) / os_bs_b"
   ]
  },
  {
   "cell_type": "markdown",
   "metadata": {},
   "source": [
    "### 3.4. Виводимо таблиці з обчисленими даними."
   ]
  },
  {
   "cell_type": "code",
   "execution_count": 158,
   "metadata": {},
   "outputs": [
    {
     "name": "stdout",
     "output_type": "stream",
     "text": [
      "Var          ban_s    ban_t    open_S    bt/bs, %    os/bs, %\n",
      "---------  -------  -------  --------  ----------  ----------\n",
      "Baseline      1279      927       483       72.48       37.76\n",
      "Variant A     1293      924       471       71.46       36.43\n"
     ]
    }
   ],
   "source": [
    "# перша частина таблиці\n",
    "table_banner_2_1 = [['Var', 'ban_s', 'ban_t', 'open_S', \n",
    "                   'bt/bs, %', 'os/bs, %', 'dif bt/bs, %', 'dif os/bs, %'], \n",
    "         \n",
    "         ['Baseline', banner_show_b, banner_touch_b, open_store_b, round((bt_bs_b * 100), 2), \n",
    "          round((os_bs_b * 100), 2)],\n",
    "        \n",
    "         ['Variant A', banner_show_v_A, banner_touch_v_A, open_store_v_A, round((bt_bs_v_A * 100), 2), \n",
    "          round((os_bs_v_A * 100), 2)]]\n",
    "\n",
    "# Друга частина таблиці\n",
    "table_banner_2_2 = [['Var', 'dif bt/bs, %', 'dif os/bs, %', 'sign bt/bs', 'sign os/bs'], \n",
    "         \n",
    "         ['Baseline'],\n",
    "        \n",
    "         ['Variant A', round((dif_bt_bs * 100), 2), round((dif_os_bs * 100), 2),\n",
    "         norm().sf(bt_bs_z_score), norm().sf(os_bs_z_score)]]\n",
    "\n",
    "# виведення першої частини таблиці\n",
    "print(tabulate(table_banner_2_1, headers='firstrow'))"
   ]
  },
  {
   "cell_type": "code",
   "execution_count": 159,
   "metadata": {},
   "outputs": [
    {
     "name": "stdout",
     "output_type": "stream",
     "text": [
      "Var          dif bt/bs, %    dif os/bs, %    sign bt/bs    sign os/bs\n",
      "---------  --------------  --------------  ------------  ------------\n",
      "Baseline\n",
      "Variant A            -1.4           -3.54      0.282953      0.241383\n"
     ]
    }
   ],
   "source": [
    "# виведення другої частини таблиці\n",
    "print(tabulate(table_banner_2_2, headers='firstrow'))"
   ]
  },
  {
   "cell_type": "markdown",
   "metadata": {},
   "source": [
    "### 3.5. Отримуємо дані про статистичну значимість (двостороння гіпотеза). "
   ]
  },
  {
   "cell_type": "code",
   "execution_count": 160,
   "metadata": {},
   "outputs": [
    {
     "name": "stdout",
     "output_type": "stream",
     "text": [
      "Статистичної значимості ніде немає.\n"
     ]
    }
   ],
   "source": [
    "if norm().sf(bt_bs_z_score) < 0.025 or norm().sf(bt_bs_z_score) == 0.025:\n",
    "    print('Є статистична значимість bt_bs.')\n",
    "    \n",
    "if norm().sf(os_bs_z_score) < 0.025 or norm().sf(os_bs_z_score) == 0.025:\n",
    "    print('Є статистична значимість os_bs.')   \n",
    "\n",
    "if norm().sf(bt_bs_z_score) > 0.025 and norm().sf(os_bs_z_score) > 0.025:\n",
    "    print('Статистичної значимості ніде немає.')"
   ]
  },
  {
   "cell_type": "code",
   "execution_count": null,
   "metadata": {},
   "outputs": [],
   "source": []
  }
 ],
 "metadata": {
  "kernelspec": {
   "display_name": "Python 3",
   "language": "python",
   "name": "python3"
  },
  "language_info": {
   "codemirror_mode": {
    "name": "ipython",
    "version": 3
   },
   "file_extension": ".py",
   "mimetype": "text/x-python",
   "name": "python",
   "nbconvert_exporter": "python",
   "pygments_lexer": "ipython3",
   "version": "3.7.6"
  }
 },
 "nbformat": 4,
 "nbformat_minor": 5
}
