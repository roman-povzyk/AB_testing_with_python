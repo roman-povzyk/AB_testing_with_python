{
 "cells": [
  {
   "cell_type": "markdown",
   "id": "77783526",
   "metadata": {},
   "source": [
    "# Обчислення AB-тесту з одним варіантом"
   ]
  },
  {
   "cell_type": "markdown",
   "id": "822e739c",
   "metadata": {},
   "source": [
    "## 1. Встановлюємо та імпортуємо необхідні бібліотеки"
   ]
  },
  {
   "cell_type": "code",
   "execution_count": 23,
   "id": "6a04ca00",
   "metadata": {},
   "outputs": [
    {
     "name": "stdout",
     "output_type": "stream",
     "text": [
      "Collecting tabulate\n",
      "  Downloading tabulate-0.8.9-py3-none-any.whl (25 kB)\n",
      "Installing collected packages: tabulate\n",
      "Successfully installed tabulate-0.8.9\n",
      "Note: you may need to restart the kernel to use updated packages.\n"
     ]
    }
   ],
   "source": [
    "pip install tabulate"
   ]
  },
  {
   "cell_type": "code",
   "execution_count": 73,
   "id": "13ab42c8",
   "metadata": {},
   "outputs": [
    {
     "name": "stdout",
     "output_type": "stream",
     "text": [
      "Requirement already satisfied: scipy in c:\\users\\roman\\anaconda3\\lib\\site-packages (1.6.2)\n",
      "Requirement already satisfied: numpy<1.23.0,>=1.16.5 in c:\\users\\roman\\anaconda3\\lib\\site-packages (from scipy) (1.20.1)\n",
      "Note: you may need to restart the kernel to use updated packages.\n"
     ]
    }
   ],
   "source": [
    "pip install scipy"
   ]
  },
  {
   "cell_type": "code",
   "execution_count": 1,
   "id": "e88b3096",
   "metadata": {},
   "outputs": [],
   "source": [
    "import matplotlib.pyplot as plt\n",
    "import numpy as np\n",
    "from scipy.stats import binom, norm\n",
    "from tabulate import tabulate"
   ]
  },
  {
   "cell_type": "markdown",
   "id": "e005255f",
   "metadata": {},
   "source": [
    "## 2. Обчислення стосовно іконки"
   ]
  },
  {
   "cell_type": "markdown",
   "id": "1b988ab7",
   "metadata": {},
   "source": [
    "### 2.1. Вводимо необхідні дані."
   ]
  },
  {
   "cell_type": "code",
   "execution_count": 139,
   "id": "4d658375",
   "metadata": {},
   "outputs": [],
   "source": [
    "# A — Baseline, B — тестова\n",
    "icon_vis_b = 3301\n",
    "icon_vis_v_A = 3325\n",
    "\n",
    "icon_touch_b = 1279\n",
    "icon_touch_v_A = 1293\n",
    "\n",
    "open_store_b  = 483\n",
    "open_store_v_A = 471"
   ]
  },
  {
   "cell_type": "markdown",
   "id": "7979cbd6",
   "metadata": {},
   "source": [
    "### 2.2. Обчислюємо z-score для p-value (двостороння гіпотеза)."
   ]
  },
  {
   "cell_type": "code",
   "execution_count": 140,
   "id": "dae230fc",
   "metadata": {},
   "outputs": [],
   "source": [
    "# it_iv_z_score\n",
    "\n",
    "it_iv_rate_b = icon_touch_b / icon_vis_b\n",
    "it_iv_rate_v_A = icon_touch_v_A / icon_vis_v_A\n",
    "\n",
    "it_iv_std_b = np.sqrt(it_iv_rate_b * (1 - it_iv_rate_b) / icon_vis_b)\n",
    "it_iv_std_v_A = np.sqrt(it_iv_rate_v_A * (1 - it_iv_rate_v_A) / icon_vis_v_A)\n",
    "\n",
    "it_iv_z_score = abs((it_iv_rate_v_A - it_iv_rate_b) / np.sqrt(it_iv_std_b**2 + it_iv_std_v_A**2))\n",
    "\n",
    "# os_it_z_score\n",
    "\n",
    "os_it_rate_b = open_store_b / icon_touch_b\n",
    "os_it_rate_v_A = open_store_v_A / icon_touch_v_A\n",
    "\n",
    "os_it_std_b = np.sqrt(os_it_rate_b * (1 - os_it_rate_b) / icon_touch_b)\n",
    "os_it_std_v_A = np.sqrt(os_it_rate_v_A * (1 - os_it_rate_v_A) / icon_touch_v_A)\n",
    "\n",
    "os_it_z_score = abs((os_it_rate_v_A - os_it_rate_b) / np.sqrt(os_it_std_b**2 + os_it_std_v_A**2))\n",
    "\n",
    "# os_iv_z_score\n",
    "\n",
    "os_iv_rate_b = open_store_b / icon_vis_b\n",
    "os_iv_rate_v_A = open_store_v_A / icon_vis_v_A\n",
    "\n",
    "os_iv_std_b = np.sqrt(os_iv_rate_b * (1 - os_iv_rate_b) / icon_vis_b)\n",
    "os_iv_std_v_A = np.sqrt(os_iv_rate_v_A * (1 - os_iv_rate_v_A) / icon_vis_v_A)\n",
    "\n",
    "os_iv_z_score = abs((os_iv_rate_v_A - os_iv_rate_b) / np.sqrt(os_iv_std_b**2 + os_iv_std_v_A**2))"
   ]
  },
  {
   "cell_type": "markdown",
   "id": "d474c455",
   "metadata": {},
   "source": [
    "### 2.3. Обчислюємо решту потрібних показників для таблиці."
   ]
  },
  {
   "cell_type": "code",
   "execution_count": 141,
   "id": "1c949880",
   "metadata": {},
   "outputs": [],
   "source": [
    "it_iv_b = icon_touch_b / icon_vis_b\n",
    "it_iv_v_A = icon_touch_v_A / icon_vis_v_A\n",
    "\n",
    "os_it_b = open_store_b / icon_touch_b\n",
    "os_it_v_A = open_store_v_A / icon_touch_v_A\n",
    "\n",
    "os_iv_b = open_store_b / icon_vis_b\n",
    "os_iv_v_A = open_store_v_A / icon_vis_v_A\n",
    "\n",
    "dif_it_iv = (it_iv_v_A - it_iv_b) / it_iv_b\n",
    "dif_os_it = (os_it_v_A - os_it_b) / os_it_b\n",
    "dif_os_iv = (os_iv_v_A - os_iv_b) / os_iv_b"
   ]
  },
  {
   "cell_type": "markdown",
   "id": "7590ba55",
   "metadata": {},
   "source": [
    "### 2.1.4. Виводимо таблиці з обчисленими даними."
   ]
  },
  {
   "cell_type": "code",
   "execution_count": 142,
   "id": "8406e588",
   "metadata": {},
   "outputs": [
    {
     "name": "stdout",
     "output_type": "stream",
     "text": [
      "Variant      icon_vis    icon_touch    open_Store    it/iv, %    os/it, %    os/iv, %\n",
      "---------  ----------  ------------  ------------  ----------  ----------  ----------\n",
      "Baseline         3301          1279           483       38.75       37.76       14.63\n",
      "Variant A        3325          1293           471       38.89       36.43       14.17\n"
     ]
    }
   ],
   "source": [
    "# перша частина таблиці\n",
    "table_icon_1_1 = [['Variant', 'icon_vis', 'icon_touch', 'open_Store', 'it/iv, %', 'os/it, %', 'os/iv, %'], \n",
    "         \n",
    "        ['Baseline', icon_vis_b, icon_touch_b, open_store_b, round((it_iv_b * 100), 2), \n",
    "          round((os_it_b * 100), 2), round((os_iv_b * 100), 2)],\n",
    "        \n",
    "        ['Variant A', icon_vis_v_A, icon_touch_v_A, open_store_v_A, round((it_iv_v_A * 100), 2), \n",
    "         round((os_it_v_A * 100), 2), round((os_iv_v_A * 100), 2)]]\n",
    "\n",
    "# друга частина таблиці\n",
    "table_icon_1_2 = [['Variant', 'dif it/iv, %', 'dif os/it, %', 'dif os/iv, %', 'sign it/iv', 'sign os/it', 'sign os/iv'], \n",
    "         \n",
    "        ['Baseline'],\n",
    "        \n",
    "        ['Variant A', round((dif_it_iv * 100), 2), round((dif_os_it * 100), 2), round((dif_os_iv * 100), 2), \n",
    "         norm().sf(it_iv_z_score), norm().sf(os_it_z_score), norm().sf(os_iv_z_score)]]\n",
    "\n",
    "# виведення першої частини таблиці\n",
    "print(tabulate(table_icon_1_1, headers='firstrow'))"
   ]
  },
  {
   "cell_type": "code",
   "execution_count": 143,
   "id": "d08ccf82",
   "metadata": {},
   "outputs": [
    {
     "name": "stdout",
     "output_type": "stream",
     "text": [
      "Variant      dif it/iv, %    dif os/it, %    dif os/iv, %    sign it/iv    sign os/it    sign os/iv\n",
      "---------  --------------  --------------  --------------  ------------  ------------  ------------\n",
      "Baseline\n",
      "Variant A            0.36           -3.54           -3.19      0.453003      0.241383      0.294314\n"
     ]
    }
   ],
   "source": [
    "# виведення другої частини таблиці\n",
    "print(tabulate(table_icon_1_2, headers='firstrow'))"
   ]
  },
  {
   "cell_type": "markdown",
   "id": "eb94d02d",
   "metadata": {},
   "source": [
    "### 2.1.5. Отримуємо дані про статистичну значимість (двостороння гіпотеза). "
   ]
  },
  {
   "cell_type": "code",
   "execution_count": 144,
   "id": "62bb0696",
   "metadata": {},
   "outputs": [
    {
     "name": "stdout",
     "output_type": "stream",
     "text": [
      "Статистичної значимості ніде немає.\n"
     ]
    }
   ],
   "source": [
    "if norm().sf(it_iv_z_score) < 0.025 or norm().sf(it_iv_z_score) == 0.025:\n",
    "    print('Є статистична значимість it/iv.')\n",
    "    \n",
    "if norm().sf(os_it_z_score) < 0.025 or norm().sf(os_it_z_score) == 0.025:\n",
    "    print('Є статистична значимість os/it.')\n",
    "    \n",
    "if norm().sf(os_iv_z_score) < 0.025 or norm().sf(os_iv_z_score) == 0.025:\n",
    "    print('Є статистична значимість os/iv.')   \n",
    "\n",
    "if norm().sf(it_iv_z_score) > 0.025 and norm().sf(os_it_z_score) > 0.025 and norm().sf(os_iv_z_score) > 0.025:\n",
    "    print('Статистичної значимості ніде немає.')"
   ]
  },
  {
   "cell_type": "markdown",
   "id": "6ef5f6cb",
   "metadata": {},
   "source": [
    "## 2. Обчислення стосовно банеру"
   ]
  },
  {
   "cell_type": "markdown",
   "id": "5fb24348",
   "metadata": {},
   "source": [
    "### 2.2.1. Вводимо необхідні дані."
   ]
  },
  {
   "cell_type": "code",
   "execution_count": 155,
   "id": "1a664109",
   "metadata": {},
   "outputs": [],
   "source": [
    "# A — Baseline, B — тестова\n",
    "banner_show_b = 1279\n",
    "banner_show_v_A = 1293\n",
    "\n",
    "banner_touch_b = 927\n",
    "banner_touch_v_A = 924\n",
    "\n",
    "open_store_b = 483\n",
    "open_store_v_A = 471"
   ]
  },
  {
   "cell_type": "markdown",
   "id": "4206fd70",
   "metadata": {},
   "source": [
    "### 2.2.2. Обчислюємо z-score для p-value (двостороння гіпотеза)."
   ]
  },
  {
   "cell_type": "code",
   "execution_count": 156,
   "id": "2aff1186",
   "metadata": {},
   "outputs": [],
   "source": [
    "# bt_bs_z_score\n",
    "\n",
    "bt_bs_rate_b = banner_touch_b / banner_show_b\n",
    "bt_bs_rate_v_A = banner_touch_v_A / banner_show_v_A\n",
    "\n",
    "bt_bs_std_b = np.sqrt(bt_bs_rate_b * (1 - bt_bs_rate_b) / banner_show_b)\n",
    "bt_bs_std_v_A = np.sqrt(bt_bs_rate_v_A * (1 - bt_bs_rate_v_A) / banner_show_v_A)\n",
    "\n",
    "bt_bs_z_score = abs((bt_bs_rate_v_A - bt_bs_rate_b) / np.sqrt(bt_bs_std_b**2 + bt_bs_std_v_A**2))\n",
    "\n",
    "# os_it_z_score\n",
    "\n",
    "os_bs_rate_b = open_store_b / banner_show_b\n",
    "os_bs_rate_v_A = open_store_v_A / banner_show_v_A\n",
    "\n",
    "os_bs_std_b = np.sqrt(os_bs_rate_b * (1 - os_bs_rate_b) / banner_show_b)\n",
    "os_bs_std_v_A = np.sqrt(os_bs_rate_v_A * (1 - os_bs_rate_v_A) / banner_show_v_A)\n",
    "\n",
    "os_bs_z_score = abs((os_bs_rate_v_A - os_bs_rate_b) / np.sqrt(os_bs_std_b**2 + os_bs_std_v_A**2))"
   ]
  },
  {
   "cell_type": "markdown",
   "id": "007e0feb",
   "metadata": {},
   "source": [
    "### 2.2.3. Обчислюємо решту потрібних показників для таблиці."
   ]
  },
  {
   "cell_type": "code",
   "execution_count": 157,
   "id": "d3892ccd",
   "metadata": {},
   "outputs": [],
   "source": [
    "bt_bs_b = banner_touch_b / banner_show_b\n",
    "bt_bs_v_A = banner_touch_v_A / banner_show_v_A\n",
    "\n",
    "os_bs_b = open_store_b / banner_show_b\n",
    "os_bs_v_A = open_store_v_A / banner_show_v_A\n",
    "\n",
    "dif_bt_bs = (bt_bs_v_A - bt_bs_b) / bt_bs_b\n",
    "dif_os_bs = (os_bs_v_A - os_bs_b) / os_bs_b"
   ]
  },
  {
   "cell_type": "markdown",
   "id": "cdff1a0c",
   "metadata": {},
   "source": [
    "### 2.2.4. Виводимо таблиці з обчисленими даними."
   ]
  },
  {
   "cell_type": "code",
   "execution_count": 158,
   "id": "f0cde03a",
   "metadata": {},
   "outputs": [
    {
     "name": "stdout",
     "output_type": "stream",
     "text": [
      "Var          ban_s    ban_t    open_S    bt/bs, %    os/bs, %\n",
      "---------  -------  -------  --------  ----------  ----------\n",
      "Baseline      1279      927       483       72.48       37.76\n",
      "Variant A     1293      924       471       71.46       36.43\n"
     ]
    }
   ],
   "source": [
    "# перша частина таблиці\n",
    "table_banner_2_1 = [['Var', 'ban_s', 'ban_t', 'open_S', \n",
    "                   'bt/bs, %', 'os/bs, %', 'dif bt/bs, %', 'dif os/bs, %'], \n",
    "         \n",
    "         ['Baseline', banner_show_b, banner_touch_b, open_store_b, round((bt_bs_b * 100), 2), \n",
    "          round((os_bs_b * 100), 2)],\n",
    "        \n",
    "         ['Variant A', banner_show_v_A, banner_touch_v_A, open_store_v_A, round((bt_bs_v_A * 100), 2), \n",
    "          round((os_bs_v_A * 100), 2)]]\n",
    "\n",
    "# Друга частина таблиці\n",
    "table_banner_2_2 = [['Var', 'dif bt/bs, %', 'dif os/bs, %', 'sign bt/bs', 'sign os/bs'], \n",
    "         \n",
    "         ['Baseline'],\n",
    "        \n",
    "         ['Variant A', round((dif_bt_bs * 100), 2), round((dif_os_bs * 100), 2),\n",
    "         norm().sf(bt_bs_z_score), norm().sf(os_bs_z_score)]]\n",
    "\n",
    "# виведення першої частини таблиці\n",
    "print(tabulate(table_banner_2_1, headers='firstrow'))"
   ]
  },
  {
   "cell_type": "code",
   "execution_count": 159,
   "id": "10e9476c",
   "metadata": {},
   "outputs": [
    {
     "name": "stdout",
     "output_type": "stream",
     "text": [
      "Var          dif bt/bs, %    dif os/bs, %    sign bt/bs    sign os/bs\n",
      "---------  --------------  --------------  ------------  ------------\n",
      "Baseline\n",
      "Variant A            -1.4           -3.54      0.282953      0.241383\n"
     ]
    }
   ],
   "source": [
    "# виведення другої частини таблиці\n",
    "print(tabulate(table_banner_2_2, headers='firstrow'))"
   ]
  },
  {
   "cell_type": "markdown",
   "id": "c4d1c7d9",
   "metadata": {},
   "source": [
    "### 2.1.5. Отримуємо дані про статистичну значимість (двостороння гіпотеза). "
   ]
  },
  {
   "cell_type": "code",
   "execution_count": 160,
   "id": "e4d91600",
   "metadata": {},
   "outputs": [
    {
     "name": "stdout",
     "output_type": "stream",
     "text": [
      "Статистичної значимості ніде немає.\n"
     ]
    }
   ],
   "source": [
    "if norm().sf(bt_bs_z_score) < 0.025 or norm().sf(bt_bs_z_score) == 0.025:\n",
    "    print('Є статистична значимість bt_bs.')\n",
    "    \n",
    "if norm().sf(os_bs_z_score) < 0.025 or norm().sf(os_bs_z_score) == 0.025:\n",
    "    print('Є статистична значимість os_bs.')   \n",
    "\n",
    "if norm().sf(bt_bs_z_score) > 0.025 and norm().sf(os_bs_z_score) > 0.025:\n",
    "    print('Статистичної значимості ніде немає.')"
   ]
  },
  {
   "cell_type": "code",
   "execution_count": null,
   "id": "55493ae7",
   "metadata": {},
   "outputs": [],
   "source": []
  }
 ],
 "metadata": {
  "kernelspec": {
   "display_name": "Python 3",
   "language": "python",
   "name": "python3"
  },
  "language_info": {
   "codemirror_mode": {
    "name": "ipython",
    "version": 3
   },
   "file_extension": ".py",
   "mimetype": "text/x-python",
   "name": "python",
   "nbconvert_exporter": "python",
   "pygments_lexer": "ipython3",
   "version": "3.8.8"
  }
 },
 "nbformat": 4,
 "nbformat_minor": 5
}
